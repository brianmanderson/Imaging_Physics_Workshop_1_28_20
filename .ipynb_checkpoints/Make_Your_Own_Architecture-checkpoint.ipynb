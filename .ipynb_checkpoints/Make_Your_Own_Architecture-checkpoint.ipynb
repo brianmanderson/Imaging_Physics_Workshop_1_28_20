{
 "cells": [
  {
   "cell_type": "code",
   "execution_count": null,
   "metadata": {},
   "outputs": [],
   "source": [
    "from UNet_Maker import my_UNet\n",
    "from functools import partial"
   ]
  },
  {
   "cell_type": "code",
   "execution_count": null,
   "metadata": {},
   "outputs": [],
   "source": [
    "layers = {'Layer_0':{'Encoding':[16,32],'Decoding':[32,16,8]},\n",
    "          'Base':{'Encoding':[64]}}\n",
    "\n",
    "conv_block = lambda x: {'Channels': [x], 'Kernel': [(3, 3, 3)]}\n",
    "pool = (4,4)\n",
    "filters = 16\n",
    "layers_dict['Layer_0'] = {'Encoding':[conv_block(filters), conv_block(filters)],'Pooling':(4,4),\n",
    "                         'Decoding':[conv_block(filters),conv_block(filters)]}\n",
    "pool = (2,2)\n",
    "filters = 32\n",
    "layers_dict['Layer_1'] = {'Encoding':[conv_block(filters), conv_block(filters)],'Pooling':pool,\n",
    "                         'Decoding':[conv_block(filters),conv_block(filters)]}\n",
    "filters = 64\n",
    "layers_dict['Base'] = {'Encoding':[conv_block(filters), conv_block(filters)]}"
   ]
  }
 ],
 "metadata": {
  "kernelspec": {
   "display_name": "Python 3",
   "language": "python",
   "name": "python3"
  },
  "language_info": {
   "codemirror_mode": {
    "name": "ipython",
    "version": 3
   },
   "file_extension": ".py",
   "mimetype": "text/x-python",
   "name": "python",
   "nbconvert_exporter": "python",
   "pygments_lexer": "ipython3",
   "version": "3.6.8"
  }
 },
 "nbformat": 4,
 "nbformat_minor": 2
}
