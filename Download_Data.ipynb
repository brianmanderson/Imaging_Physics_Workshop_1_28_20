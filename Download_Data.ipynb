{
 "cells": [
  {
   "cell_type": "markdown",
   "metadata": {},
   "source": [
    "# This is the first script that needs to be run"
   ]
  },
  {
   "cell_type": "code",
   "execution_count": null,
   "metadata": {},
   "outputs": [],
   "source": [
    "!pip install 'tensorflow-gpu==1.14.0'\n",
    "!pip install PyDrive"
   ]
  },
  {
   "cell_type": "code",
   "execution_count": null,
   "metadata": {},
   "outputs": [],
   "source": [
    "from pydrive.auth import GoogleAuth\n",
    "from pydrive.drive import GoogleDrive\n",
    "from google.colab import auth\n",
    "from oauth2client.client import GoogleCredentials\n",
    "import os\n",
    "\n",
    "class download_data_from_folder(object):\n",
    "    def __init__(self,path):\n",
    "        path_id = path[path.find('id=')+3:]\n",
    "        self.file_list = self.get_files_in_location(path_id)\n",
    "        self.unwrap_data(self.file_list)\n",
    "    def get_files_in_location(self,folder_id):\n",
    "        file_list = drive.ListFile({'q': \"'{}' in parents and trashed=false\".format(folder_id)}).GetList()\n",
    "        return file_list\n",
    "    def unwrap_data(self,file_list,directory='.'):\n",
    "        for i, file in enumerate(file_list):\n",
    "            print(str((i + 1) / len(file_list) * 100) + '% done copying')\n",
    "            if file['mimeType'].find('folder') != -1:\n",
    "                if not os.path.exists(os.path.join(directory, file['title'])):\n",
    "                    os.makedirs(os.path.join(directory, file['title']))\n",
    "                print('Copying folder ' + os.path.join(directory, file['title']))\n",
    "                self.unwrap_data(self.get_files_in_location(file['id']), os.path.join(directory, file['title']))\n",
    "            else:\n",
    "                if not os.path.exists(os.path.join(directory, file['title'])):\n",
    "                    downloaded = drive.CreateFile({'id': file['id']})\n",
    "                    downloaded.GetContentFile(os.path.join(directory, file['title']))\n",
    "        return None"
   ]
  },
  {
   "cell_type": "code",
   "execution_count": null,
   "metadata": {},
   "outputs": [],
   "source": [
    "auth.authenticate_user()\n",
    "gauth = GoogleAuth()\n",
    "gauth.credentials = GoogleCredentials.get_application_default()\n",
    "drive = GoogleDrive(gauth)"
   ]
  },
  {
   "cell_type": "code",
   "execution_count": null,
   "metadata": {},
   "outputs": [],
   "source": [
    "data_path = 'https://drive.google.com/open?id=1TSZ5tGhf1l0jbX55KZpUaF5S4RSa2xCy'\n",
    "download_data_from_folder(data_path)"
   ]
  }
 ],
 "metadata": {
  "kernelspec": {
   "display_name": "Python 3",
   "language": "python",
   "name": "python3"
  },
  "language_info": {
   "codemirror_mode": {
    "name": "ipython",
    "version": 3
   },
   "file_extension": ".py",
   "mimetype": "text/x-python",
   "name": "python",
   "nbconvert_exporter": "python",
   "pygments_lexer": "ipython3",
   "version": "3.6.8"
  }
 },
 "nbformat": 4,
 "nbformat_minor": 2
}
