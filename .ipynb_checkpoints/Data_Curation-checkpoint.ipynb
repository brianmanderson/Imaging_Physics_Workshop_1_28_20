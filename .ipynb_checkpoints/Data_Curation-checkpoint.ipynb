{
 "cells": [
  {
   "cell_type": "markdown",
   "metadata": {},
   "source": [
    "# Data curation"
   ]
  },
  {
   "cell_type": "markdown",
   "metadata": {},
   "source": [
    "### Import some necessary functions"
   ]
  },
  {
   "cell_type": "code",
   "execution_count": 1,
   "metadata": {},
   "outputs": [],
   "source": [
    "import os, pydicom\n",
    "import numpy as np\n",
    "import pydicom "
   ]
  },
  {
   "cell_type": "markdown",
   "metadata": {},
   "source": [
    "## Find where we put our data"
   ]
  },
  {
   "cell_type": "code",
   "execution_count": 10,
   "metadata": {},
   "outputs": [
    {
     "name": "stdout",
     "output_type": "stream",
     "text": [
      "We have 20 patients!\n"
     ]
    }
   ],
   "source": [
    "data_path = os.path.join('..','Data','Whole_Patients')\n",
    "print('We have ' + str(len(os.listdir(data_path))) + ' patients!')"
   ]
  },
  {
   "cell_type": "markdown",
   "metadata": {},
   "source": [
    "## Check the contour names"
   ]
  },
  {
   "cell_type": "code",
   "execution_count": 3,
   "metadata": {},
   "outputs": [],
   "source": [
    "from Dicom_RT_and_Images_to_Mask.Image_Array_And_Mask_From_Dicom_RT import DicomImagestoData"
   ]
  },
  {
   "cell_type": "code",
   "execution_count": 9,
   "metadata": {},
   "outputs": [
    {
     "name": "stdout",
     "output_type": "stream",
     "text": [
      "['RS_MRNMED_LYMPH_063_1.2.752.243.1.1.20190411110641822.1200.55154.dcm']\n",
      "['RS_MRNABD_LYMPH_007_1.2.752.243.1.1.20190411110641822.1200.551541.dcm']\n",
      "['RS_MRNMED_LYMPH_024_1.2.752.243.1.1.20190411110641822.1200.55154.dcm']\n",
      "['RS_MRNABD_LYMPH_033_1.2.752.243.1.1.20190411110641822.1200.55154.dcm']\n",
      "['RS_MRNMED_LYMPH_017_1.2.752.243.1.1.20190411110641822.1200.55154.dcm']\n",
      "['RS_MRNABD_LYMPH_019_1.2.752.243.1.1.20190411110641822.1200.55154.dcm']\n",
      "['RS_MRNMED_LYMPH_055_1.2.752.243.1.1.20190411110641822.1200.551541.dcm']\n",
      "['RS_MRNMED_LYMPH_073_1.2.752.243.1.1.20190411110641822.1200.551541.dcm']\n",
      "['RS_MRNABD_LYMPH_069_1.2.752.243.1.1.20190411110641822.1200.551541.dcm']\n",
      "['RS_MRNABD_LYMPH_028_1.2.752.243.1.1.20190411110641822.1200.551541.dcm']\n",
      "['RS_MRNMED_LYMPH_075_1.2.752.243.1.1.20190411110641822.1200.55154.dcm']\n",
      "['RS_MRNMED_LYMPH_029_1.2.752.243.1.1.20190411110641822.1200.55154.dcm']\n",
      "['RS_MRNMED_LYMPH_069_1.2.752.243.1.1.20190411110641822.1200.55154.dcm']\n",
      "['RS_MRNMED_LYMPH_002_1.2.752.243.1.1.20190411110641822.1200.551541.dcm']\n",
      "['RS_MRNABD_LYMPH_016_1.2.752.243.1.1.20190411110641822.1200.55154.dcm']\n",
      "['RS_MRNMED_LYMPH_064_1.2.752.243.1.1.20190411110641822.1200.551541.dcm']\n",
      "['RS_MRNMED_LYMPH_044_1.2.752.243.1.1.20190411110641822.1200.55154.dcm']\n",
      "['RS_MRNABD_LYMPH_036_1.2.752.243.1.1.20190411110641822.1200.55154.dcm']\n",
      "['RS_MRNMED_LYMPH_030_1.2.752.243.1.1.20190411110641822.1200.55154.dcm']\n",
      "['RS_MRNMED_LYMPH_067_1.2.752.243.1.1.20190411110641822.1200.551541.dcm']\n"
     ]
    }
   ],
   "source": [
    "Dicom_Reader = DicomImagestoData(path=data_path,get_images_mask=False) # Set the get_images_mask to False so it will be fast"
   ]
  },
  {
   "cell_type": "code",
   "execution_count": 11,
   "metadata": {
    "scrolled": true
   },
   "outputs": [
    {
     "name": "stdout",
     "output_type": "stream",
     "text": [
      "Liver\n",
      "bma_liver\n",
      "best_liver\n",
      "tried_liver\n",
      "Liver_BMA_Program_4\n"
     ]
    }
   ],
   "source": [
    "for roi in Dicom_Reader.all_rois:\n",
    "    print(roi)"
   ]
  },
  {
   "cell_type": "markdown",
   "metadata": {},
   "source": [
    "## Make contour associations"
   ]
  },
  {
   "cell_type": "markdown",
   "metadata": {},
   "source": [
    "We have quite a few contour names here.. now, we can either change the ROI names in the RT files, or make an associations file"
   ]
  },
  {
   "cell_type": "code",
   "execution_count": 12,
   "metadata": {},
   "outputs": [],
   "source": [
    "associations = {'Liver_BMA_Program_4':'Liver','bma_liver':'Liver','best_liver':'Liver','tried_liver':'Liver'}\n",
    "Dicom_Reader.associations = associations"
   ]
  },
  {
   "cell_type": "markdown",
   "metadata": {},
   "source": [
    "### Re-write RTs\n",
    "#### This is commented out, because if I run it, then the example above won't show any different contour names"
   ]
  },
  {
   "cell_type": "code",
   "execution_count": 16,
   "metadata": {},
   "outputs": [],
   "source": [
    "# for RT in Dicom_Reader.all_RTs:\n",
    "#     Dicom_Reader.rewrite_RT(RT)"
   ]
  },
  {
   "cell_type": "code",
   "execution_count": null,
   "metadata": {},
   "outputs": [],
   "source": []
  }
 ],
 "metadata": {
  "kernelspec": {
   "display_name": "Python 3",
   "language": "python",
   "name": "python3"
  },
  "language_info": {
   "codemirror_mode": {
    "name": "ipython",
    "version": 3
   },
   "file_extension": ".py",
   "mimetype": "text/x-python",
   "name": "python",
   "nbconvert_exporter": "python",
   "pygments_lexer": "ipython3",
   "version": "3.6.8"
  }
 },
 "nbformat": 4,
 "nbformat_minor": 2
}
