{
 "cells": [
  {
   "cell_type": "markdown",
   "metadata": {},
   "source": [
    "# Data curation"
   ]
  },
  {
   "cell_type": "markdown",
   "metadata": {},
   "source": [
    "### Import some necessary functions"
   ]
  },
  {
   "cell_type": "code",
   "execution_count": 1,
   "metadata": {},
   "outputs": [],
   "source": [
    "import os, pydicom, sys\n",
    "sys.path.append('..')\n",
    "import numpy as np\n",
    "import SimpleITK as sitk\n",
    "from Distribute_Patients import Separate_files\n",
    "from Dicom_RT_and_Images_to_Mask.Image_Array_And_Mask_From_Dicom_RT import Dicom_to_Imagestack\n",
    "from Dicom_RT_and_Images_to_Mask.Plot_And_Scroll_Images.Plot_Scroll_Images import plot_scroll_Image\n",
    "from Make_Single_Images.Make_Single_Images_Class import run_main"
   ]
  },
  {
   "cell_type": "markdown",
   "metadata": {},
   "source": [
    "## Finding the Data"
   ]
  },
  {
   "cell_type": "markdown",
   "metadata": {},
   "source": [
    "### Find where we put our data"
   ]
  },
  {
   "cell_type": "code",
   "execution_count": 2,
   "metadata": {},
   "outputs": [
    {
     "name": "stdout",
     "output_type": "stream",
     "text": [
      "We have 20 patients!\n"
     ]
    }
   ],
   "source": [
    "data_path = os.path.join('..','Data','Whole_Patients')\n",
    "print('We have ' + str(len(os.listdir(data_path))) + ' patients!')"
   ]
  },
  {
   "cell_type": "markdown",
   "metadata": {},
   "source": [
    "## Ensuring contour fidelity..."
   ]
  },
  {
   "cell_type": "markdown",
   "metadata": {},
   "source": [
    "### Note that we've set 'get_images_mask' to False, this means we won't be getting any of the image data, just looking at the dicom RT files"
   ]
  },
  {
   "cell_type": "code",
   "execution_count": 3,
   "metadata": {
    "scrolled": true
   },
   "outputs": [],
   "source": [
    "Dicom_Reader = Dicom_to_Imagestack(get_images_mask=False)"
   ]
  },
  {
   "cell_type": "code",
   "execution_count": 4,
   "metadata": {},
   "outputs": [],
   "source": [
    "Dicom_Reader.down_folder(data_path)"
   ]
  },
  {
   "cell_type": "markdown",
   "metadata": {},
   "source": [
    "### What ROI names do we have?\n",
    "\n",
    "#### This will tell us all the unique roi names, hence all_rois"
   ]
  },
  {
   "cell_type": "code",
   "execution_count": 5,
   "metadata": {
    "scrolled": false
   },
   "outputs": [
    {
     "name": "stdout",
     "output_type": "stream",
     "text": [
      "bma_liver\n",
      "Liver_BMA_Program_4\n",
      "tried_liver\n",
      "best_liver\n",
      "Liver\n"
     ]
    }
   ],
   "source": [
    "for roi in Dicom_Reader.all_rois:\n",
    "    print(roi)"
   ]
  },
  {
   "cell_type": "markdown",
   "metadata": {},
   "source": [
    "## Make contour associations"
   ]
  },
  {
   "cell_type": "markdown",
   "metadata": {},
   "source": [
    "#### We have quite a few contour names here.. now, we can either change the ROI names in the RT files, or make an associations file\n",
    "\n",
    "#### The associations file associates a contour name with another one {'Current contour':'Desired name'}"
   ]
  },
  {
   "cell_type": "code",
   "execution_count": 6,
   "metadata": {},
   "outputs": [],
   "source": [
    "associations = {'Liver_BMA_Program_4':'Liver',\n",
    "                'bma_liver':'Liver',\n",
    "                'best_liver':'Liver',\n",
    "                'tried_liver':'Liver'}"
   ]
  },
  {
   "cell_type": "markdown",
   "metadata": {},
   "source": [
    "### Tell the Dicom_Reader that we want to set the associations, get the images and mask for contour 'Liver'"
   ]
  },
  {
   "cell_type": "code",
   "execution_count": 17,
   "metadata": {},
   "outputs": [],
   "source": [
    "Dicom_Reader.set_associations(associations)\n",
    "Dicom_Reader.set_get_images_and_mask(True)\n",
    "Dicom_Reader.set_contour_names(['Liver'])"
   ]
  },
  {
   "cell_type": "markdown",
   "metadata": {},
   "source": [
    "### Re-write RTs\n",
    "#### This is commented out, because if I run it, then the example above won't show any different contour names"
   ]
  },
  {
   "cell_type": "code",
   "execution_count": 8,
   "metadata": {},
   "outputs": [],
   "source": [
    "# Dicom_Reader.associations = associations\n",
    "# for RT in Dicom_Reader.all_RTs:\n",
    "#     Dicom_Reader.rewrite_RT(RT)"
   ]
  },
  {
   "cell_type": "markdown",
   "metadata": {},
   "source": [
    "## Pulling images and mask"
   ]
  },
  {
   "cell_type": "markdown",
   "metadata": {},
   "source": [
    "### We'll first do this with one patient"
   ]
  },
  {
   "cell_type": "code",
   "execution_count": 18,
   "metadata": {},
   "outputs": [
    {
     "name": "stdout",
     "output_type": "stream",
     "text": [
      "Done!\n"
     ]
    }
   ],
   "source": [
    "patient_data_path = os.path.join(data_path,'ABD_LYMPH_036')\n",
    "Dicom_Reader.Make_Contour_From_directory(patient_data_path)\n",
    "print('Done!')"
   ]
  },
  {
   "cell_type": "markdown",
   "metadata": {},
   "source": [
    "## View images"
   ]
  },
  {
   "cell_type": "code",
   "execution_count": 10,
   "metadata": {},
   "outputs": [],
   "source": [
    "%matplotlib inline"
   ]
  },
  {
   "cell_type": "markdown",
   "metadata": {},
   "source": [
    "### The images and mask are saved within the Dicom_Reader class, so we just have to load them"
   ]
  },
  {
   "cell_type": "code",
   "execution_count": 19,
   "metadata": {},
   "outputs": [],
   "source": [
    "Images = Dicom_Reader.ArrayDicom\n",
    "mask = Dicom_Reader.mask # This is the mask"
   ]
  },
  {
   "cell_type": "code",
   "execution_count": 21,
   "metadata": {},
   "outputs": [
    {
     "data": {
      "text/plain": [
       "['Liver_BMA_Program_4']"
      ]
     },
     "execution_count": 21,
     "metadata": {},
     "output_type": "execute_result"
    }
   ],
   "source": [
    "Dicom_Reader.rois_in_case"
   ]
  },
  {
   "cell_type": "markdown",
   "metadata": {},
   "source": [
    "#### Threshold"
   ]
  },
  {
   "cell_type": "code",
   "execution_count": 12,
   "metadata": {},
   "outputs": [],
   "source": [
    "Images[Images<-200] = -200\n",
    "Images[Images>200] = 200"
   ]
  },
  {
   "cell_type": "code",
   "execution_count": 15,
   "metadata": {
    "scrolled": true
   },
   "outputs": [
    {
     "data": {
      "text/plain": [
       "(<Figure size 432x288 with 1 Axes>,\n",
       " <Dicom_RT_and_Images_to_Mask.Plot_And_Scroll_Images.Plot_Scroll_Images.IndexTracker at 0x1dd000e38d0>)"
      ]
     },
     "execution_count": 15,
     "metadata": {},
     "output_type": "execute_result"
    },
    {
     "data": {
      "image/png": "[encoded data removed]",
      "text/plain": [
       "<Figure size 432x288 with 1 Axes>"
      ]
     },
     "metadata": {
      "needs_background": "light"
     },
     "output_type": "display_data"
    }
   ],
   "source": [
    "plot_scroll_Image(Images)"
   ]
  },
  {
   "cell_type": "code",
   "execution_count": 14,
   "metadata": {},
   "outputs": [],
   "source": [
    "Images[mask==1] += 300"
   ]
  },
  {
   "cell_type": "markdown",
   "metadata": {},
   "source": [
    "## Recap\n",
    "\n",
    "### Checking ROI contour names and making associations\n",
    "\n",
    "### Loading in image and mask from desired contour name\n",
    "\n",
    "### Viewing images and mask"
   ]
  },
  {
   "cell_type": "code",
   "execution_count": null,
   "metadata": {},
   "outputs": [],
   "source": [
    "def write_data(data_path, out_path, Dicom_Reader):\n",
    "    desc = 'TCIA_Liver_Patients'\n",
    "    Dicom_Reader.set_description(desc)\n",
    "    iteration = 0\n",
    "    for patient in os.listdir(data_path):\n",
    "        print(patient)\n",
    "        patient_data_path = os.path.join(data_path,patient)\n",
    "        out_file = os.path.join(patient_data_path, desc + '_Iteration_' + str(iteration) + '.txt')\n",
    "        if not os.path.exists(out_file):\n",
    "            Dicom_Reader.Make_Contour_From_directory(patient_data_path)\n",
    "            Dicom_Reader.set_iteration(iteration)\n",
    "            Dicom_Reader.write_images_annotations(out_path)\n",
    "        iteration += 1\n",
    "    return None"
   ]
  },
  {
   "cell_type": "code",
   "execution_count": 15,
   "metadata": {
    "scrolled": true
   },
   "outputs": [],
   "source": [
    "data_path = os.path.join('..','Data','Whole_Patients')\n",
    "output_path = os.path.join('..','Data','Niftii_Arrays')\n",
    "#write_data(data_path,output_path, Dicom_Reader)\n",
    "#Separate_files(output_path) # Separate into a Training/Validation/Test set\n",
    "# run_main(output_path,extension=5)"
   ]
  }
 ],
 "metadata": {
  "kernelspec": {
   "display_name": "Python 3",
   "language": "python",
   "name": "python3"
  },
  "language_info": {
   "codemirror_mode": {
    "name": "ipython",
    "version": 3
   },
   "file_extension": ".py",
   "mimetype": "text/x-python",
   "name": "python",
   "nbconvert_exporter": "python",
   "pygments_lexer": "ipython3",
   "version": "3.6.8"
  }
 },
 "nbformat": 4,
 "nbformat_minor": 2
}
