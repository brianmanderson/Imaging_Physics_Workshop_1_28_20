{
 "cells": [
  {
   "cell_type": "markdown",
   "metadata": {},
   "source": [
    "# This is the first script that needs to be run on Google Colab"
   ]
  },
  {
   "cell_type": "code",
   "execution_count": null,
   "metadata": {
    "pycharm": {
     "name": "#%%\n"
    }
   },
   "outputs": [],
   "source": [
    "!pip install 'tensorflow-gpu==1.15.0'\n",
    "!pip install PyDrive\n",
    "!pip install pydicom\n",
    "!pip install SimpleITK"
   ]
  },
  {
   "cell_type": "code",
   "execution_count": null,
   "metadata": {
    "pycharm": {
     "name": "#%%\n"
    }
   },
   "outputs": [],
   "source": [
    "from pydrive.auth import GoogleAuth\n",
    "from pydrive.drive import GoogleDrive\n",
    "from google.colab import auth\n",
    "from oauth2client.client import GoogleCredentials\n",
    "import os\n",
    "import warnings\n",
    "warnings.filterwarnings('ignore')\n",
    "\n",
    "class download_data_from_folder(object):\n",
    "    def __init__(self,path):\n",
    "        path_id = path[path.find('id=')+3:]\n",
    "        self.file_list = self.get_files_in_location(path_id)\n",
    "        self.unwrap_data(self.file_list)\n",
    "    def get_files_in_location(self,folder_id):\n",
    "        file_list = drive.ListFile({'q': \"'{}' in parents and trashed=false\".format(folder_id)}).GetList()\n",
    "        return file_list\n",
    "    def unwrap_data(self,file_list,directory='.'):\n",
    "        for i, file in enumerate(file_list):\n",
    "            print(str((i + 1) / len(file_list) * 100) + '% done copying')\n",
    "            if file['mimeType'].find('folder') != -1:\n",
    "                if not os.path.exists(os.path.join(directory, file['title'])):\n",
    "                    os.makedirs(os.path.join(directory, file['title']))\n",
    "                print('Copying folder ' + os.path.join(directory, file['title']))\n",
    "                self.unwrap_data(self.get_files_in_location(file['id']), os.path.join(directory, file['title']))\n",
    "            else:\n",
    "                if not os.path.exists(os.path.join(directory, file['title'])):\n",
    "                    downloaded = drive.CreateFile({'id': file['id']})\n",
    "                    downloaded.GetContentFile(os.path.join(directory, file['title']))\n",
    "        return None"
   ]
  },
  {
   "cell_type": "code",
   "execution_count": null,
   "metadata": {
    "pycharm": {
     "name": "#%%\n"
    }
   },
   "outputs": [],
   "source": [
    "auth.authenticate_user()\n",
    "gauth = GoogleAuth()\n",
    "gauth.credentials = GoogleCredentials.get_application_default()\n",
    "drive = GoogleDrive(gauth)"
   ]
  },
  {
   "cell_type": "code",
   "execution_count": null,
   "metadata": {
    "pycharm": {
     "name": "#%%\n"
    }
   },
   "outputs": [],
   "source": [
    "data_path = 'https://drive.google.com/open?id=1TSZ5tGhf1l0jbX55KZpUaF5S4RSa2xCy'\n",
    "download_data_from_folder(data_path)"
   ]
  },
  {
   "cell_type": "code",
   "execution_count": null,
   "metadata": {
    "pycharm": {
     "name": "#%%\n"
    }
   },
   "outputs": [],
   "source": [
    "import zipfile, os\n",
    "\n",
    "def unzip(path_to_zip, out_path):\n",
    "  with zipfile.ZipFile(path_to_zip, 'r') as zip_ref:\n",
    "      zip_ref.extractall(out_path)\n",
    "  return None"
   ]
  },
  {
   "cell_type": "code",
   "execution_count": null,
   "metadata": {
    "pycharm": {
     "name": "#%%\n"
    }
   },
   "outputs": [],
   "source": [
    "path_to_data = os.path.join('.','Data.zip')\n",
    "out_path = os.path.join('.')\n",
    "unzip(path_to_data,out_path)"
   ]
  },
  {
   "cell_type": "code",
   "execution_count": null,
   "metadata": {},
   "outputs": [],
   "source": [
    "os.chdir(os.path.join('.','Code'))"
   ]
  },
  {
   "cell_type": "markdown",
   "metadata": {},
   "source": [
    "### Finished!"
   ]
  },
  {
   "cell_type": "markdown",
   "metadata": {},
   "source": [
    "# DeepBox"
   ]
  },
  {
   "cell_type": "markdown",
   "metadata": {},
   "source": [
    "## First we need to import a few things"
   ]
  },
  {
   "cell_type": "code",
   "execution_count": 1,
   "metadata": {},
   "outputs": [
    {
     "name": "stderr",
     "output_type": "stream",
     "text": [
      "Using TensorFlow backend.\n"
     ]
    }
   ],
   "source": [
    "import numpy as np\n",
    "import matplotlib.pyplot as plt\n",
    "from Shape_Maker import Data_Generator, make_rectangle, make_circle\n",
    "from Visualizing_Model.Visualing_Model import visualization_model_class"
   ]
  },
  {
   "cell_type": "code",
   "execution_count": 2,
   "metadata": {},
   "outputs": [],
   "source": [
    "%matplotlib inline"
   ]
  },
  {
   "cell_type": "code",
   "execution_count": 3,
   "metadata": {},
   "outputs": [],
   "source": [
    "image_size = 64"
   ]
  },
  {
   "cell_type": "markdown",
   "metadata": {},
   "source": [
    "## The make_rectangle and make_circle will both return circles and rectangles, and the Data_Generator will randomly create circles or rectangles"
   ]
  },
  {
   "cell_type": "code",
   "execution_count": 4,
   "metadata": {
    "scrolled": false
   },
   "outputs": [
    {
     "data": {
      "text/plain": [
       "<matplotlib.image.AxesImage at 0x2110a57b4e0>"
      ]
     },
     "execution_count": 4,
     "metadata": {},
     "output_type": "execute_result"
    },
    {
     "data": {
      "image/png": "[encoded data removed]",
      "text/plain": [
       "<Figure size 432x288 with 1 Axes>"
      ]
     },
     "metadata": {
      "needs_background": "light"
     },
     "output_type": "display_data"
    }
   ],
   "source": [
    "plt.imshow(make_rectangle(image_size))"
   ]
  },
  {
   "cell_type": "code",
   "execution_count": 5,
   "metadata": {},
   "outputs": [
    {
     "data": {
      "text/plain": [
       "<matplotlib.image.AxesImage at 0x2110a619278>"
      ]
     },
     "execution_count": 5,
     "metadata": {},
     "output_type": "execute_result"
    },
    {
     "data": {
      "image/png": "[encoded data removed]",
      "text/plain": [
       "<Figure size 432x288 with 1 Axes>"
      ]
     },
     "metadata": {
      "needs_background": "light"
     },
     "output_type": "display_data"
    }
   ],
   "source": [
    "plt.imshow(make_circle(image_size))"
   ]
  },
  {
   "cell_type": "markdown",
   "metadata": {},
   "source": [
    "## What do we need? We need a way to generate larges amounts of training data for our model.."
   ]
  },
  {
   "cell_type": "markdown",
   "metadata": {},
   "source": [
    "### This is a 'generator', it is something which continously creates data"
   ]
  },
  {
   "cell_type": "code",
   "execution_count": null,
   "metadata": {},
   "outputs": [],
   "source": [
    "train_generator = Data_Generator(image_size=image_size,batch_size=32, num_examples_per_epoch=100)"
   ]
  },
  {
   "cell_type": "code",
   "execution_count": null,
   "metadata": {
    "scrolled": true
   },
   "outputs": [],
   "source": [
    "x,y = train_generator.__getitem__(0)\n",
    "print(x.shape)\n",
    "print(y.shape)"
   ]
  },
  {
   "cell_type": "markdown",
   "metadata": {},
   "source": [
    "## Now lets make our network!"
   ]
  },
  {
   "cell_type": "code",
   "execution_count": null,
   "metadata": {},
   "outputs": [],
   "source": [
    "from keras import Sequential\n",
    "from keras.layers import Conv2D, MaxPool2D, Dense, Flatten, Activation\n",
    "from keras.optimizers import Adam"
   ]
  },
  {
   "cell_type": "code",
   "execution_count": null,
   "metadata": {
    "scrolled": true
   },
   "outputs": [],
   "source": [
    "model = Sequential([\n",
    "    Conv2D(1, (3,3), input_shape=(image_size, image_size, 1), padding='same',name='Conv_0'),\n",
    "    MaxPool2D((image_size)), # Pool into a 1x1x6 image\n",
    "    Flatten(),\n",
    "    Dense(2),\n",
    "    Activation('softmax')\n",
    "])"
   ]
  },
  {
   "cell_type": "code",
   "execution_count": null,
   "metadata": {},
   "outputs": [],
   "source": [
    "model.compile(Adam(lr=1e-1), loss='categorical_crossentropy', metrics=['accuracy'])"
   ]
  },
  {
   "cell_type": "code",
   "execution_count": null,
   "metadata": {
    "scrolled": true
   },
   "outputs": [],
   "source": [
    "model.fit_generator(train_generator,epochs=3)"
   ]
  },
  {
   "cell_type": "code",
   "execution_count": null,
   "metadata": {},
   "outputs": [],
   "source": [
    "def determine_accuracy(model, image_size= 64, num_examples=1000):\n",
    "    truth = np.zeros((num_examples,1))\n",
    "    guess = np.zeros((num_examples,1))\n",
    "    index = 0\n",
    "    for _ in range(num_examples//2):\n",
    "        pred = model.predict(make_rectangle(image_size)[None,...,None])\n",
    "        guess[index] = np.argmax(pred)\n",
    "        truth[index] = 1\n",
    "        index += 1\n",
    "    for _ in range(num_examples//2):\n",
    "        pred = model.predict(make_circle(image_size)[None,...,None])\n",
    "        guess[index] = np.argmax(pred)\n",
    "        index += 1\n",
    "    print('Accuracy is {} for {} examples'.format(str((guess==truth).sum()/num_examples),num_examples))"
   ]
  },
  {
   "cell_type": "code",
   "execution_count": null,
   "metadata": {},
   "outputs": [],
   "source": [
    "determine_accuracy(model)"
   ]
  },
  {
   "cell_type": "code",
   "execution_count": null,
   "metadata": {},
   "outputs": [],
   "source": [
    "rectangle = make_rectangle(image_size)[None,...,None]\n",
    "circle = make_circle(image_size)[None,...,None]\n",
    "print(model.predict(rectangle)[...,1]*100)\n",
    "print(model.predict(circle)[...,0]*100)"
   ]
  },
  {
   "cell_type": "markdown",
   "metadata": {},
   "source": [
    "## Lets see what the kernels and activations look like"
   ]
  },
  {
   "cell_type": "code",
   "execution_count": null,
   "metadata": {},
   "outputs": [],
   "source": [
    "Visualizing_Class = visualization_model_class(model=model)"
   ]
  },
  {
   "cell_type": "code",
   "execution_count": null,
   "metadata": {},
   "outputs": [],
   "source": [
    "Visualizing_Class.define_desired_layers(desired_layer_names=['Conv_0'])"
   ]
  },
  {
   "cell_type": "markdown",
   "metadata": {},
   "source": [
    "## Kernels"
   ]
  },
  {
   "cell_type": "code",
   "execution_count": null,
   "metadata": {
    "scrolled": false
   },
   "outputs": [],
   "source": [
    "Visualizing_Class.plot_kernels()"
   ]
  },
  {
   "cell_type": "markdown",
   "metadata": {},
   "source": [
    "## Activations\n",
    "#### In order to make an activation map we need to provide it with something to predict on"
   ]
  },
  {
   "cell_type": "code",
   "execution_count": null,
   "metadata": {},
   "outputs": [],
   "source": [
    "Visualizing_Class.predict_on_tensor(make_rectangle(image_size)[None,...,None])"
   ]
  },
  {
   "cell_type": "code",
   "execution_count": null,
   "metadata": {
    "scrolled": false
   },
   "outputs": [],
   "source": [
    "Visualizing_Class.plot_activations()"
   ]
  },
  {
   "cell_type": "markdown",
   "metadata": {},
   "source": [
    "## How big is this model? Super tiny!!"
   ]
  },
  {
   "cell_type": "code",
   "execution_count": null,
   "metadata": {
    "scrolled": true
   },
   "outputs": [],
   "source": [
    "model.summary()"
   ]
  },
  {
   "cell_type": "code",
   "execution_count": null,
   "metadata": {},
   "outputs": [],
   "source": []
  },
  {
   "cell_type": "markdown",
   "metadata": {},
   "source": [
    "# Data curation"
   ]
  },
  {
   "cell_type": "markdown",
   "metadata": {},
   "source": [
    "## Finding the Data"
   ]
  },
  {
   "cell_type": "markdown",
   "metadata": {},
   "source": [
    "### Import some necessary functions"
   ]
  },
  {
   "cell_type": "code",
   "execution_count": 1,
   "metadata": {},
   "outputs": [],
   "source": [
    "import os, pydicom\n",
    "import numpy as np\n",
    "import SimpleITK as sitk\n",
    "from Distribute_Patients import Separate_files"
   ]
  },
  {
   "cell_type": "markdown",
   "metadata": {},
   "source": [
    "### Find where we put our data"
   ]
  },
  {
   "cell_type": "code",
   "execution_count": null,
   "metadata": {},
   "outputs": [],
   "source": [
    "print(os.listdir('..'))"
   ]
  },
  {
   "cell_type": "code",
   "execution_count": 5,
   "metadata": {},
   "outputs": [
    {
     "name": "stdout",
     "output_type": "stream",
     "text": [
      "We have 20 patients!\n"
     ]
    }
   ],
   "source": [
    "data_path = os.path.join('..','Data','Whole_Patients')\n",
    "print('We have ' + str(len(os.listdir(data_path))) + ' patients!')"
   ]
  },
  {
   "cell_type": "markdown",
   "metadata": {},
   "source": [
    "## Ensuring contour fidelity..."
   ]
  },
  {
   "cell_type": "markdown",
   "metadata": {},
   "source": [
    "### Import some functions"
   ]
  },
  {
   "cell_type": "markdown",
   "metadata": {},
   "source": [
    "This is our Dicom_Reader, we'll use it to handle our imaging and masks"
   ]
  },
  {
   "cell_type": "code",
   "execution_count": 2,
   "metadata": {},
   "outputs": [],
   "source": [
    "from Dicom_RT_and_Images_to_Mask.Image_Array_And_Mask_From_Dicom_RT import DicomImagestoData, plot_scroll_Image"
   ]
  },
  {
   "cell_type": "markdown",
   "metadata": {},
   "source": [
    "### What are the contour names we have?"
   ]
  },
  {
   "cell_type": "markdown",
   "metadata": {},
   "source": [
    "Note that we've set 'get_images_mask' to False, this means we won't be getting any of the image data, just looking at the dicom RT files"
   ]
  },
  {
   "cell_type": "code",
   "execution_count": null,
   "metadata": {
    "scrolled": true
   },
   "outputs": [],
   "source": [
    "Dicom_Reader = DicomImagestoData(path=data_path,get_images_mask=False) # Set the get_images_mask to False so it will be fast"
   ]
  },
  {
   "cell_type": "markdown",
   "metadata": {},
   "source": [
    "### View ROI names\n",
    "\n",
    "#### This will tell us all the unique roi names, hence all_rois"
   ]
  },
  {
   "cell_type": "code",
   "execution_count": null,
   "metadata": {
    "scrolled": false
   },
   "outputs": [],
   "source": [
    "for roi in Dicom_Reader.all_rois:\n",
    "    print(roi)"
   ]
  },
  {
   "cell_type": "markdown",
   "metadata": {},
   "source": [
    "## Make contour associations"
   ]
  },
  {
   "cell_type": "markdown",
   "metadata": {},
   "source": [
    "#### We have quite a few contour names here.. now, we can either change the ROI names in the RT files, or make an associations file\n",
    "\n",
    "#### The associations file associates a contour name with another one {'Current contour':'Desired name'}"
   ]
  },
  {
   "cell_type": "code",
   "execution_count": 3,
   "metadata": {},
   "outputs": [],
   "source": [
    "associations = {'Liver_BMA_Program_4':'Liver',\n",
    "                'bma_liver':'Liver',\n",
    "                'best_liver':'Liver',\n",
    "                'tried_liver':'Liver'}"
   ]
  },
  {
   "cell_type": "markdown",
   "metadata": {},
   "source": [
    "### Re-write RTs\n",
    "#### This is commented out, because if I run it, then the example above won't show any different contour names"
   ]
  },
  {
   "cell_type": "code",
   "execution_count": null,
   "metadata": {},
   "outputs": [],
   "source": [
    "# Dicom_Reader.associations = associations\n",
    "# for RT in Dicom_Reader.all_RTs:\n",
    "#     Dicom_Reader.rewrite_RT(RT)"
   ]
  },
  {
   "cell_type": "markdown",
   "metadata": {},
   "source": [
    "## Pulling images and mask"
   ]
  },
  {
   "cell_type": "markdown",
   "metadata": {},
   "source": [
    "### We'll first do this with one patient"
   ]
  },
  {
   "cell_type": "code",
   "execution_count": 6,
   "metadata": {},
   "outputs": [
    {
     "name": "stdout",
     "output_type": "stream",
     "text": [
      "Done!\n"
     ]
    }
   ],
   "source": [
    "patient_data_path = os.path.join(data_path,'ABD_LYMPH_036')\n",
    "Dicom_Reader = DicomImagestoData(path=patient_data_path,get_images_mask=True,associations=associations)\n",
    "print('Done!')"
   ]
  },
  {
   "cell_type": "code",
   "execution_count": 7,
   "metadata": {},
   "outputs": [
    {
     "name": "stdout",
     "output_type": "stream",
     "text": [
      "['Liver_BMA_Program_4']\n"
     ]
    }
   ],
   "source": [
    "print(Dicom_Reader.rois_in_case)"
   ]
  },
  {
   "cell_type": "code",
   "execution_count": 8,
   "metadata": {},
   "outputs": [
    {
     "name": "stdout",
     "output_type": "stream",
     "text": [
      "Done\n"
     ]
    }
   ],
   "source": [
    "Dicom_Reader.get_mask(['Liver']) # Tell the class to load up the mask with contour name 'Liver'\n",
    "print('Done')"
   ]
  },
  {
   "cell_type": "markdown",
   "metadata": {},
   "source": [
    "# View images"
   ]
  },
  {
   "cell_type": "code",
   "execution_count": 9,
   "metadata": {},
   "outputs": [],
   "source": [
    "%matplotlib notebook"
   ]
  },
  {
   "cell_type": "markdown",
   "metadata": {},
   "source": [
    "### The images and mask are saved within the Dicom_Reader class, so we just have to load them"
   ]
  },
  {
   "cell_type": "code",
   "execution_count": 10,
   "metadata": {},
   "outputs": [],
   "source": [
    "Images = Dicom_Reader.ArrayDicom\n",
    "mask = Dicom_Reader.mask # This is the mask"
   ]
  },
  {
   "cell_type": "markdown",
   "metadata": {},
   "source": [
    "#### Threshold"
   ]
  },
  {
   "cell_type": "code",
   "execution_count": 11,
   "metadata": {},
   "outputs": [],
   "source": [
    "Images[Images<-200] = -200\n",
    "Images[Images>200] = 200"
   ]
  },
  {
   "cell_type": "code",
   "execution_count": 12,
   "metadata": {
    "scrolled": true
   },
   "outputs": [
    {
     "data": {
      "application/javascript": [
       "/* Put everything inside the global mpl namespace */\n",
       "window.mpl = {};\n",
       "\n",
       "\n",
       "mpl.get_websocket_type = function() {\n",
       "    if (typeof(WebSocket) !== 'undefined') {\n",
       "        return WebSocket;\n",
       "    } else if (typeof(MozWebSocket) !== 'undefined') {\n",
       "        return MozWebSocket;\n",
       "    } else {\n",
       "        alert('Your browser does not have WebSocket support.' +\n",
       "              'Please try Chrome, Safari or Firefox ≥ 6. ' +\n",
       "              'Firefox 4 and 5 are also supported but you ' +\n",
       "              'have to enable WebSockets in about:config.');\n",
       "    };\n",
       "}\n",
       "\n",
       "mpl.figure = function(figure_id, websocket, ondownload, parent_element) {\n",
       "    this.id = figure_id;\n",
       "\n",
       "    this.ws = websocket;\n",
       "\n",
       "    this.supports_binary = (this.ws.binaryType != undefined);\n",
       "\n",
       "    if (!this.supports_binary) {\n",
       "        var warnings = document.getElementById(\"mpl-warnings\");\n",
       "        if (warnings) {\n",
       "            warnings.style.display = 'block';\n",
       "            warnings.textContent = (\n",
       "                \"This browser does not support binary websocket messages. \" +\n",
       "                    \"Performance may be slow.\");\n",
       "        }\n",
       "    }\n",
       "\n",
       "    this.imageObj = new Image();\n",
       "\n",
       "    this.context = undefined;\n",
       "    this.message = undefined;\n",
       "    this.canvas = undefined;\n",
       "    this.rubberband_canvas = undefined;\n",
       "    this.rubberband_context = undefined;\n",
       "    this.format_dropdown = undefined;\n",
       "\n",
       "    this.image_mode = 'full';\n",
       "\n",
       "    this.root = $('<div/>');\n",
       "    this._root_extra_style(this.root)\n",
       "    this.root.attr('style', 'display: inline-block');\n",
       "\n",
       "    $(parent_element).append(this.root);\n",
       "\n",
       "    this._init_header(this);\n",
       "    this._init_canvas(this);\n",
       "    this._init_toolbar(this);\n",
       "\n",
       "    var fig = this;\n",
       "\n",
       "    this.waiting = false;\n",
       "\n",
       "    this.ws.onopen =  function () {\n",
       "            fig.send_message(\"supports_binary\", {value: fig.supports_binary});\n",
       "            fig.send_message(\"send_image_mode\", {});\n",
       "            if (mpl.ratio != 1) {\n",
       "                fig.send_message(\"set_dpi_ratio\", {'dpi_ratio': mpl.ratio});\n",
       "            }\n",
       "            fig.send_message(\"refresh\", {});\n",
       "        }\n",
       "\n",
       "    this.imageObj.onload = function() {\n",
       "            if (fig.image_mode == 'full') {\n",
       "                // Full images could contain transparency (where diff images\n",
       "                // almost always do), so we need to clear the canvas so that\n",
       "                // there is no ghosting.\n",
       "                fig.context.clearRect(0, 0, fig.canvas.width, fig.canvas.height);\n",
       "            }\n",
       "            fig.context.drawImage(fig.imageObj, 0, 0);\n",
       "        };\n",
       "\n",
       "    this.imageObj.onunload = function() {\n",
       "        fig.ws.close();\n",
       "    }\n",
       "\n",
       "    this.ws.onmessage = this._make_on_message_function(this);\n",
       "\n",
       "    this.ondownload = ondownload;\n",
       "}\n",
       "\n",
       "mpl.figure.prototype._init_header = function() {\n",
       "    var titlebar = $(\n",
       "        '<div class=\"ui-dialog-titlebar ui-widget-header ui-corner-all ' +\n",
       "        'ui-helper-clearfix\"/>');\n",
       "    var titletext = $(\n",
       "        '<div class=\"ui-dialog-title\" style=\"width: 100%; ' +\n",
       "        'text-align: center; padding: 3px;\"/>');\n",
       "    titlebar.append(titletext)\n",
       "    this.root.append(titlebar);\n",
       "    this.header = titletext[0];\n",
       "}\n",
       "\n",
       "\n",
       "\n",
       "mpl.figure.prototype._canvas_extra_style = function(canvas_div) {\n",
       "\n",
       "}\n",
       "\n",
       "\n",
       "mpl.figure.prototype._root_extra_style = function(canvas_div) {\n",
       "\n",
       "}\n",
       "\n",
       "mpl.figure.prototype._init_canvas = function() {\n",
       "    var fig = this;\n",
       "\n",
       "    var canvas_div = $('<div/>');\n",
       "\n",
       "    canvas_div.attr('style', 'position: relative; clear: both; outline: 0');\n",
       "\n",
       "    function canvas_keyboard_event(event) {\n",
       "        return fig.key_event(event, event['data']);\n",
       "    }\n",
       "\n",
       "    canvas_div.keydown('key_press', canvas_keyboard_event);\n",
       "    canvas_div.keyup('key_release', canvas_keyboard_event);\n",
       "    this.canvas_div = canvas_div\n",
       "    this._canvas_extra_style(canvas_div)\n",
       "    this.root.append(canvas_div);\n",
       "\n",
       "    var canvas = $('<canvas/>');\n",
       "    canvas.addClass('mpl-canvas');\n",
       "    canvas.attr('style', \"left: 0; top: 0; z-index: 0; outline: 0\")\n",
       "\n",
       "    this.canvas = canvas[0];\n",
       "    this.context = canvas[0].getContext(\"2d\");\n",
       "\n",
       "    var backingStore = this.context.backingStorePixelRatio ||\n",
       "\tthis.context.webkitBackingStorePixelRatio ||\n",
       "\tthis.context.mozBackingStorePixelRatio ||\n",
       "\tthis.context.msBackingStorePixelRatio ||\n",
       "\tthis.context.oBackingStorePixelRatio ||\n",
       "\tthis.context.backingStorePixelRatio || 1;\n",
       "\n",
       "    mpl.ratio = (window.devicePixelRatio || 1) / backingStore;\n",
       "\n",
       "    var rubberband = $('<canvas/>');\n",
       "    rubberband.attr('style', \"position: absolute; left: 0; top: 0; z-index: 1;\")\n",
       "\n",
       "    var pass_mouse_events = true;\n",
       "\n",
       "    canvas_div.resizable({\n",
       "        start: function(event, ui) {\n",
       "            pass_mouse_events = false;\n",
       "        },\n",
       "        resize: function(event, ui) {\n",
       "            fig.request_resize(ui.size.width, ui.size.height);\n",
       "        },\n",
       "        stop: function(event, ui) {\n",
       "            pass_mouse_events = true;\n",
       "            fig.request_resize(ui.size.width, ui.size.height);\n",
       "        },\n",
       "    });\n",
       "\n",
       "    function mouse_event_fn(event) {\n",
       "        if (pass_mouse_events)\n",
       "            return fig.mouse_event(event, event['data']);\n",
       "    }\n",
       "\n",
       "    rubberband.mousedown('button_press', mouse_event_fn);\n",
       "    rubberband.mouseup('button_release', mouse_event_fn);\n",
       "    // Throttle sequential mouse events to 1 every 20ms.\n",
       "    rubberband.mousemove('motion_notify', mouse_event_fn);\n",
       "\n",
       "    rubberband.mouseenter('figure_enter', mouse_event_fn);\n",
       "    rubberband.mouseleave('figure_leave', mouse_event_fn);\n",
       "\n",
       "    canvas_div.on(\"wheel\", function (event) {\n",
       "        event = event.originalEvent;\n",
       "        event['data'] = 'scroll'\n",
       "        if (event.deltaY < 0) {\n",
       "            event.step = 1;\n",
       "        } else {\n",
       "            event.step = -1;\n",
       "        }\n",
       "        mouse_event_fn(event);\n",
       "    });\n",
       "\n",
       "    canvas_div.append(canvas);\n",
       "    canvas_div.append(rubberband);\n",
       "\n",
       "    this.rubberband = rubberband;\n",
       "    this.rubberband_canvas = rubberband[0];\n",
       "    this.rubberband_context = rubberband[0].getContext(\"2d\");\n",
       "    this.rubberband_context.strokeStyle = \"#000000\";\n",
       "\n",
       "    this._resize_canvas = function(width, height) {\n",
       "        // Keep the size of the canvas, canvas container, and rubber band\n",
       "        // canvas in synch.\n",
       "        canvas_div.css('width', width)\n",
       "        canvas_div.css('height', height)\n",
       "\n",
       "        canvas.attr('width', width * mpl.ratio);\n",
       "        canvas.attr('height', height * mpl.ratio);\n",
       "        canvas.attr('style', 'width: ' + width + 'px; height: ' + height + 'px;');\n",
       "\n",
       "        rubberband.attr('width', width);\n",
       "        rubberband.attr('height', height);\n",
       "    }\n",
       "\n",
       "    // Set the figure to an initial 600x600px, this will subsequently be updated\n",
       "    // upon first draw.\n",
       "    this._resize_canvas(600, 600);\n",
       "\n",
       "    // Disable right mouse context menu.\n",
       "    $(this.rubberband_canvas).bind(\"contextmenu\",function(e){\n",
       "        return false;\n",
       "    });\n",
       "\n",
       "    function set_focus () {\n",
       "        canvas.focus();\n",
       "        canvas_div.focus();\n",
       "    }\n",
       "\n",
       "    window.setTimeout(set_focus, 100);\n",
       "}\n",
       "\n",
       "mpl.figure.prototype._init_toolbar = function() {\n",
       "    var fig = this;\n",
       "\n",
       "    var nav_element = $('<div/>')\n",
       "    nav_element.attr('style', 'width: 100%');\n",
       "    this.root.append(nav_element);\n",
       "\n",
       "    // Define a callback function for later on.\n",
       "    function toolbar_event(event) {\n",
       "        return fig.toolbar_button_onclick(event['data']);\n",
       "    }\n",
       "    function toolbar_mouse_event(event) {\n",
       "        return fig.toolbar_button_onmouseover(event['data']);\n",
       "    }\n",
       "\n",
       "    for(var toolbar_ind in mpl.toolbar_items) {\n",
       "        var name = mpl.toolbar_items[toolbar_ind][0];\n",
       "        var tooltip = mpl.toolbar_items[toolbar_ind][1];\n",
       "        var image = mpl.toolbar_items[toolbar_ind][2];\n",
       "        var method_name = mpl.toolbar_items[toolbar_ind][3];\n",
       "\n",
       "        if (!name) {\n",
       "            // put a spacer in here.\n",
       "            continue;\n",
       "        }\n",
       "        var button = $('<button/>');\n",
       "        button.addClass('ui-button ui-widget ui-state-default ui-corner-all ' +\n",
       "                        'ui-button-icon-only');\n",
       "        button.attr('role', 'button');\n",
       "        button.attr('aria-disabled', 'false');\n",
       "        button.click(method_name, toolbar_event);\n",
       "        button.mouseover(tooltip, toolbar_mouse_event);\n",
       "\n",
       "        var icon_img = $('<span/>');\n",
       "        icon_img.addClass('ui-button-icon-primary ui-icon');\n",
       "        icon_img.addClass(image);\n",
       "        icon_img.addClass('ui-corner-all');\n",
       "\n",
       "        var tooltip_span = $('<span/>');\n",
       "        tooltip_span.addClass('ui-button-text');\n",
       "        tooltip_span.html(tooltip);\n",
       "\n",
       "        button.append(icon_img);\n",
       "        button.append(tooltip_span);\n",
       "\n",
       "        nav_element.append(button);\n",
       "    }\n",
       "\n",
       "    var fmt_picker_span = $('<span/>');\n",
       "\n",
       "    var fmt_picker = $('<select/>');\n",
       "    fmt_picker.addClass('mpl-toolbar-option ui-widget ui-widget-content');\n",
       "    fmt_picker_span.append(fmt_picker);\n",
       "    nav_element.append(fmt_picker_span);\n",
       "    this.format_dropdown = fmt_picker[0];\n",
       "\n",
       "    for (var ind in mpl.extensions) {\n",
       "        var fmt = mpl.extensions[ind];\n",
       "        var option = $(\n",
       "            '<option/>', {selected: fmt === mpl.default_extension}).html(fmt);\n",
       "        fmt_picker.append(option)\n",
       "    }\n",
       "\n",
       "    // Add hover states to the ui-buttons\n",
       "    $( \".ui-button\" ).hover(\n",
       "        function() { $(this).addClass(\"ui-state-hover\");},\n",
       "        function() { $(this).removeClass(\"ui-state-hover\");}\n",
       "    );\n",
       "\n",
       "    var status_bar = $('<span class=\"mpl-message\"/>');\n",
       "    nav_element.append(status_bar);\n",
       "    this.message = status_bar[0];\n",
       "}\n",
       "\n",
       "mpl.figure.prototype.request_resize = function(x_pixels, y_pixels) {\n",
       "    // Request matplotlib to resize the figure. Matplotlib will then trigger a resize in the client,\n",
       "    // which will in turn request a refresh of the image.\n",
       "    this.send_message('resize', {'width': x_pixels, 'height': y_pixels});\n",
       "}\n",
       "\n",
       "mpl.figure.prototype.send_message = function(type, properties) {\n",
       "    properties['type'] = type;\n",
       "    properties['figure_id'] = this.id;\n",
       "    this.ws.send(JSON.stringify(properties));\n",
       "}\n",
       "\n",
       "mpl.figure.prototype.send_draw_message = function() {\n",
       "    if (!this.waiting) {\n",
       "        this.waiting = true;\n",
       "        this.ws.send(JSON.stringify({type: \"draw\", figure_id: this.id}));\n",
       "    }\n",
       "}\n",
       "\n",
       "\n",
       "mpl.figure.prototype.handle_save = function(fig, msg) {\n",
       "    var format_dropdown = fig.format_dropdown;\n",
       "    var format = format_dropdown.options[format_dropdown.selectedIndex].value;\n",
       "    fig.ondownload(fig, format);\n",
       "}\n",
       "\n",
       "\n",
       "mpl.figure.prototype.handle_resize = function(fig, msg) {\n",
       "    var size = msg['size'];\n",
       "    if (size[0] != fig.canvas.width || size[1] != fig.canvas.height) {\n",
       "        fig._resize_canvas(size[0], size[1]);\n",
       "        fig.send_message(\"refresh\", {});\n",
       "    };\n",
       "}\n",
       "\n",
       "mpl.figure.prototype.handle_rubberband = function(fig, msg) {\n",
       "    var x0 = msg['x0'] / mpl.ratio;\n",
       "    var y0 = (fig.canvas.height - msg['y0']) / mpl.ratio;\n",
       "    var x1 = msg['x1'] / mpl.ratio;\n",
       "    var y1 = (fig.canvas.height - msg['y1']) / mpl.ratio;\n",
       "    x0 = Math.floor(x0) + 0.5;\n",
       "    y0 = Math.floor(y0) + 0.5;\n",
       "    x1 = Math.floor(x1) + 0.5;\n",
       "    y1 = Math.floor(y1) + 0.5;\n",
       "    var min_x = Math.min(x0, x1);\n",
       "    var min_y = Math.min(y0, y1);\n",
       "    var width = Math.abs(x1 - x0);\n",
       "    var height = Math.abs(y1 - y0);\n",
       "\n",
       "    fig.rubberband_context.clearRect(\n",
       "        0, 0, fig.canvas.width, fig.canvas.height);\n",
       "\n",
       "    fig.rubberband_context.strokeRect(min_x, min_y, width, height);\n",
       "}\n",
       "\n",
       "mpl.figure.prototype.handle_figure_label = function(fig, msg) {\n",
       "    // Updates the figure title.\n",
       "    fig.header.textContent = msg['label'];\n",
       "}\n",
       "\n",
       "mpl.figure.prototype.handle_cursor = function(fig, msg) {\n",
       "    var cursor = msg['cursor'];\n",
       "    switch(cursor)\n",
       "    {\n",
       "    case 0:\n",
       "        cursor = 'pointer';\n",
       "        break;\n",
       "    case 1:\n",
       "        cursor = 'default';\n",
       "        break;\n",
       "    case 2:\n",
       "        cursor = 'crosshair';\n",
       "        break;\n",
       "    case 3:\n",
       "        cursor = 'move';\n",
       "        break;\n",
       "    }\n",
       "    fig.rubberband_canvas.style.cursor = cursor;\n",
       "}\n",
       "\n",
       "mpl.figure.prototype.handle_message = function(fig, msg) {\n",
       "    fig.message.textContent = msg['message'];\n",
       "}\n",
       "\n",
       "mpl.figure.prototype.handle_draw = function(fig, msg) {\n",
       "    // Request the server to send over a new figure.\n",
       "    fig.send_draw_message();\n",
       "}\n",
       "\n",
       "mpl.figure.prototype.handle_image_mode = function(fig, msg) {\n",
       "    fig.image_mode = msg['mode'];\n",
       "}\n",
       "\n",
       "mpl.figure.prototype.updated_canvas_event = function() {\n",
       "    // Called whenever the canvas gets updated.\n",
       "    this.send_message(\"ack\", {});\n",
       "}\n",
       "\n",
       "// A function to construct a web socket function for onmessage handling.\n",
       "// Called in the figure constructor.\n",
       "mpl.figure.prototype._make_on_message_function = function(fig) {\n",
       "    return function socket_on_message(evt) {\n",
       "        if (evt.data instanceof Blob) {\n",
       "            /* FIXME: We get \"Resource interpreted as Image but\n",
       "             * transferred with MIME type text/plain:\" errors on\n",
       "             * Chrome.  But how to set the MIME type?  It doesn't seem\n",
       "             * to be part of the websocket stream */\n",
       "            evt.data.type = \"image/png\";\n",
       "\n",
       "            /* Free the memory for the previous frames */\n",
       "            if (fig.imageObj.src) {\n",
       "                (window.URL || window.webkitURL).revokeObjectURL(\n",
       "                    fig.imageObj.src);\n",
       "            }\n",
       "\n",
       "            fig.imageObj.src = (window.URL || window.webkitURL).createObjectURL(\n",
       "                evt.data);\n",
       "            fig.updated_canvas_event();\n",
       "            fig.waiting = false;\n",
       "            return;\n",
       "        }\n",
       "        else if (typeof evt.data === 'string' && evt.data.slice(0, 21) == \"data:image/png;base64\") {\n",
       "            fig.imageObj.src = evt.data;\n",
       "            fig.updated_canvas_event();\n",
       "            fig.waiting = false;\n",
       "            return;\n",
       "        }\n",
       "\n",
       "        var msg = JSON.parse(evt.data);\n",
       "        var msg_type = msg['type'];\n",
       "\n",
       "        // Call the  \"handle_{type}\" callback, which takes\n",
       "        // the figure and JSON message as its only arguments.\n",
       "        try {\n",
       "            var callback = fig[\"handle_\" + msg_type];\n",
       "        } catch (e) {\n",
       "            console.log(\"No handler for the '\" + msg_type + \"' message type: \", msg);\n",
       "            return;\n",
       "        }\n",
       "\n",
       "        if (callback) {\n",
       "            try {\n",
       "                // console.log(\"Handling '\" + msg_type + \"' message: \", msg);\n",
       "                callback(fig, msg);\n",
       "            } catch (e) {\n",
       "                console.log(\"Exception inside the 'handler_\" + msg_type + \"' callback:\", e, e.stack, msg);\n",
       "            }\n",
       "        }\n",
       "    };\n",
       "}\n",
       "\n",
       "// from http://stackoverflow.com/questions/1114465/getting-mouse-location-in-canvas\n",
       "mpl.findpos = function(e) {\n",
       "    //this section is from http://www.quirksmode.org/js/events_properties.html\n",
       "    var targ;\n",
       "    if (!e)\n",
       "        e = window.event;\n",
       "    if (e.target)\n",
       "        targ = e.target;\n",
       "    else if (e.srcElement)\n",
       "        targ = e.srcElement;\n",
       "    if (targ.nodeType == 3) // defeat Safari bug\n",
       "        targ = targ.parentNode;\n",
       "\n",
       "    // jQuery normalizes the pageX and pageY\n",
       "    // pageX,Y are the mouse positions relative to the document\n",
       "    // offset() returns the position of the element relative to the document\n",
       "    var x = e.pageX - $(targ).offset().left;\n",
       "    var y = e.pageY - $(targ).offset().top;\n",
       "\n",
       "    return {\"x\": x, \"y\": y};\n",
       "};\n",
       "\n",
       "/*\n",
       " * return a copy of an object with only non-object keys\n",
       " * we need this to avoid circular references\n",
       " * http://stackoverflow.com/a/24161582/3208463\n",
       " */\n",
       "function simpleKeys (original) {\n",
       "  return Object.keys(original).reduce(function (obj, key) {\n",
       "    if (typeof original[key] !== 'object')\n",
       "        obj[key] = original[key]\n",
       "    return obj;\n",
       "  }, {});\n",
       "}\n",
       "\n",
       "mpl.figure.prototype.mouse_event = function(event, name) {\n",
       "    var canvas_pos = mpl.findpos(event)\n",
       "\n",
       "    if (name === 'button_press')\n",
       "    {\n",
       "        this.canvas.focus();\n",
       "        this.canvas_div.focus();\n",
       "    }\n",
       "\n",
       "    var x = canvas_pos.x * mpl.ratio;\n",
       "    var y = canvas_pos.y * mpl.ratio;\n",
       "\n",
       "    this.send_message(name, {x: x, y: y, button: event.button,\n",
       "                             step: event.step,\n",
       "                             guiEvent: simpleKeys(event)});\n",
       "\n",
       "    /* This prevents the web browser from automatically changing to\n",
       "     * the text insertion cursor when the button is pressed.  We want\n",
       "     * to control all of the cursor setting manually through the\n",
       "     * 'cursor' event from matplotlib */\n",
       "    event.preventDefault();\n",
       "    return false;\n",
       "}\n",
       "\n",
       "mpl.figure.prototype._key_event_extra = function(event, name) {\n",
       "    // Handle any extra behaviour associated with a key event\n",
       "}\n",
       "\n",
       "mpl.figure.prototype.key_event = function(event, name) {\n",
       "\n",
       "    // Prevent repeat events\n",
       "    if (name == 'key_press')\n",
       "    {\n",
       "        if (event.which === this._key)\n",
       "            return;\n",
       "        else\n",
       "            this._key = event.which;\n",
       "    }\n",
       "    if (name == 'key_release')\n",
       "        this._key = null;\n",
       "\n",
       "    var value = '';\n",
       "    if (event.ctrlKey && event.which != 17)\n",
       "        value += \"ctrl+\";\n",
       "    if (event.altKey && event.which != 18)\n",
       "        value += \"alt+\";\n",
       "    if (event.shiftKey && event.which != 16)\n",
       "        value += \"shift+\";\n",
       "\n",
       "    value += 'k';\n",
       "    value += event.which.toString();\n",
       "\n",
       "    this._key_event_extra(event, name);\n",
       "\n",
       "    this.send_message(name, {key: value,\n",
       "                             guiEvent: simpleKeys(event)});\n",
       "    return false;\n",
       "}\n",
       "\n",
       "mpl.figure.prototype.toolbar_button_onclick = function(name) {\n",
       "    if (name == 'download') {\n",
       "        this.handle_save(this, null);\n",
       "    } else {\n",
       "        this.send_message(\"toolbar_button\", {name: name});\n",
       "    }\n",
       "};\n",
       "\n",
       "mpl.figure.prototype.toolbar_button_onmouseover = function(tooltip) {\n",
       "    this.message.textContent = tooltip;\n",
       "};\n",
       "mpl.toolbar_items = [[\"Home\", \"Reset original view\", \"fa fa-home icon-home\", \"home\"], [\"Back\", \"Back to previous view\", \"fa fa-arrow-left icon-arrow-left\", \"back\"], [\"Forward\", \"Forward to next view\", \"fa fa-arrow-right icon-arrow-right\", \"forward\"], [\"\", \"\", \"\", \"\"], [\"Pan\", \"Pan axes with left mouse, zoom with right\", \"fa fa-arrows icon-move\", \"pan\"], [\"Zoom\", \"Zoom to rectangle\", \"fa fa-square-o icon-check-empty\", \"zoom\"], [\"\", \"\", \"\", \"\"], [\"Download\", \"Download plot\", \"fa fa-floppy-o icon-save\", \"download\"]];\n",
       "\n",
       "mpl.extensions = [\"eps\", \"jpeg\", \"pdf\", \"png\", \"ps\", \"raw\", \"svg\", \"tif\"];\n",
       "\n",
       "mpl.default_extension = \"png\";var comm_websocket_adapter = function(comm) {\n",
       "    // Create a \"websocket\"-like object which calls the given IPython comm\n",
       "    // object with the appropriate methods. Currently this is a non binary\n",
       "    // socket, so there is still some room for performance tuning.\n",
       "    var ws = {};\n",
       "\n",
       "    ws.close = function() {\n",
       "        comm.close()\n",
       "    };\n",
       "    ws.send = function(m) {\n",
       "        //console.log('sending', m);\n",
       "        comm.send(m);\n",
       "    };\n",
       "    // Register the callback with on_msg.\n",
       "    comm.on_msg(function(msg) {\n",
       "        //console.log('receiving', msg['content']['data'], msg);\n",
       "        // Pass the mpl event to the overridden (by mpl) onmessage function.\n",
       "        ws.onmessage(msg['content']['data'])\n",
       "    });\n",
       "    return ws;\n",
       "}\n",
       "\n",
       "mpl.mpl_figure_comm = function(comm, msg) {\n",
       "    // This is the function which gets called when the mpl process\n",
       "    // starts-up an IPython Comm through the \"matplotlib\" channel.\n",
       "\n",
       "    var id = msg.content.data.id;\n",
       "    // Get hold of the div created by the display call when the Comm\n",
       "    // socket was opened in Python.\n",
       "    var element = $(\"#\" + id);\n",
       "    var ws_proxy = comm_websocket_adapter(comm)\n",
       "\n",
       "    function ondownload(figure, format) {\n",
       "        window.open(figure.imageObj.src);\n",
       "    }\n",
       "\n",
       "    var fig = new mpl.figure(id, ws_proxy,\n",
       "                           ondownload,\n",
       "                           element.get(0));\n",
       "\n",
       "    // Call onopen now - mpl needs it, as it is assuming we've passed it a real\n",
       "    // web socket which is closed, not our websocket->open comm proxy.\n",
       "    ws_proxy.onopen();\n",
       "\n",
       "    fig.parent_element = element.get(0);\n",
       "    fig.cell_info = mpl.find_output_cell(\"<div id='\" + id + \"'></div>\");\n",
       "    if (!fig.cell_info) {\n",
       "        console.error(\"Failed to find cell for figure\", id, fig);\n",
       "        return;\n",
       "    }\n",
       "\n",
       "    var output_index = fig.cell_info[2]\n",
       "    var cell = fig.cell_info[0];\n",
       "\n",
       "};\n",
       "\n",
       "mpl.figure.prototype.handle_close = function(fig, msg) {\n",
       "    var width = fig.canvas.width/mpl.ratio\n",
       "    fig.root.unbind('remove')\n",
       "\n",
       "    // Update the output cell to use the data from the current canvas.\n",
       "    fig.push_to_output();\n",
       "    var dataURL = fig.canvas.toDataURL();\n",
       "    // Re-enable the keyboard manager in IPython - without this line, in FF,\n",
       "    // the notebook keyboard shortcuts fail.\n",
       "    IPython.keyboard_manager.enable()\n",
       "    $(fig.parent_element).html('<img src=\"' + dataURL + '\" width=\"' + width + '\">');\n",
       "    fig.close_ws(fig, msg);\n",
       "}\n",
       "\n",
       "mpl.figure.prototype.close_ws = function(fig, msg){\n",
       "    fig.send_message('closing', msg);\n",
       "    // fig.ws.close()\n",
       "}\n",
       "\n",
       "mpl.figure.prototype.push_to_output = function(remove_interactive) {\n",
       "    // Turn the data on the canvas into data in the output cell.\n",
       "    var width = this.canvas.width/mpl.ratio\n",
       "    var dataURL = this.canvas.toDataURL();\n",
       "    this.cell_info[1]['text/html'] = '<img src=\"' + dataURL + '\" width=\"' + width + '\">';\n",
       "}\n",
       "\n",
       "mpl.figure.prototype.updated_canvas_event = function() {\n",
       "    // Tell IPython that the notebook contents must change.\n",
       "    IPython.notebook.set_dirty(true);\n",
       "    this.send_message(\"ack\", {});\n",
       "    var fig = this;\n",
       "    // Wait a second, then push the new image to the DOM so\n",
       "    // that it is saved nicely (might be nice to debounce this).\n",
       "    setTimeout(function () { fig.push_to_output() }, 1000);\n",
       "}\n",
       "\n",
       "mpl.figure.prototype._init_toolbar = function() {\n",
       "    var fig = this;\n",
       "\n",
       "    var nav_element = $('<div/>')\n",
       "    nav_element.attr('style', 'width: 100%');\n",
       "    this.root.append(nav_element);\n",
       "\n",
       "    // Define a callback function for later on.\n",
       "    function toolbar_event(event) {\n",
       "        return fig.toolbar_button_onclick(event['data']);\n",
       "    }\n",
       "    function toolbar_mouse_event(event) {\n",
       "        return fig.toolbar_button_onmouseover(event['data']);\n",
       "    }\n",
       "\n",
       "    for(var toolbar_ind in mpl.toolbar_items){\n",
       "        var name = mpl.toolbar_items[toolbar_ind][0];\n",
       "        var tooltip = mpl.toolbar_items[toolbar_ind][1];\n",
       "        var image = mpl.toolbar_items[toolbar_ind][2];\n",
       "        var method_name = mpl.toolbar_items[toolbar_ind][3];\n",
       "\n",
       "        if (!name) { continue; };\n",
       "\n",
       "        var button = $('<button class=\"btn btn-default\" href=\"#\" title=\"' + name + '\"><i class=\"fa ' + image + ' fa-lg\"></i></button>');\n",
       "        button.click(method_name, toolbar_event);\n",
       "        button.mouseover(tooltip, toolbar_mouse_event);\n",
       "        nav_element.append(button);\n",
       "    }\n",
       "\n",
       "    // Add the status bar.\n",
       "    var status_bar = $('<span class=\"mpl-message\" style=\"text-align:right; float: right;\"/>');\n",
       "    nav_element.append(status_bar);\n",
       "    this.message = status_bar[0];\n",
       "\n",
       "    // Add the close button to the window.\n",
       "    var buttongrp = $('<div class=\"btn-group inline pull-right\"></div>');\n",
       "    var button = $('<button class=\"btn btn-mini btn-primary\" href=\"#\" title=\"Stop Interaction\"><i class=\"fa fa-power-off icon-remove icon-large\"></i></button>');\n",
       "    button.click(function (evt) { fig.handle_close(fig, {}); } );\n",
       "    button.mouseover('Stop Interaction', toolbar_mouse_event);\n",
       "    buttongrp.append(button);\n",
       "    var titlebar = this.root.find($('.ui-dialog-titlebar'));\n",
       "    titlebar.prepend(buttongrp);\n",
       "}\n",
       "\n",
       "mpl.figure.prototype._root_extra_style = function(el){\n",
       "    var fig = this\n",
       "    el.on(\"remove\", function(){\n",
       "\tfig.close_ws(fig, {});\n",
       "    });\n",
       "}\n",
       "\n",
       "mpl.figure.prototype._canvas_extra_style = function(el){\n",
       "    // this is important to make the div 'focusable\n",
       "    el.attr('tabindex', 0)\n",
       "    // reach out to IPython and tell the keyboard manager to turn it's self\n",
       "    // off when our div gets focus\n",
       "\n",
       "    // location in version 3\n",
       "    if (IPython.notebook.keyboard_manager) {\n",
       "        IPython.notebook.keyboard_manager.register_events(el);\n",
       "    }\n",
       "    else {\n",
       "        // location in version 2\n",
       "        IPython.keyboard_manager.register_events(el);\n",
       "    }\n",
       "\n",
       "}\n",
       "\n",
       "mpl.figure.prototype._key_event_extra = function(event, name) {\n",
       "    var manager = IPython.notebook.keyboard_manager;\n",
       "    if (!manager)\n",
       "        manager = IPython.keyboard_manager;\n",
       "\n",
       "    // Check for shift+enter\n",
       "    if (event.shiftKey && event.which == 13) {\n",
       "        this.canvas_div.blur();\n",
       "        event.shiftKey = false;\n",
       "        // Send a \"J\" for go to next cell\n",
       "        event.which = 74;\n",
       "        event.keyCode = 74;\n",
       "        manager.command_mode();\n",
       "        manager.handle_keydown(event);\n",
       "    }\n",
       "}\n",
       "\n",
       "mpl.figure.prototype.handle_save = function(fig, msg) {\n",
       "    fig.ondownload(fig, null);\n",
       "}\n",
       "\n",
       "\n",
       "mpl.find_output_cell = function(html_output) {\n",
       "    // Return the cell and output element which can be found *uniquely* in the notebook.\n",
       "    // Note - this is a bit hacky, but it is done because the \"notebook_saving.Notebook\"\n",
       "    // IPython event is triggered only after the cells have been serialised, which for\n",
       "    // our purposes (turning an active figure into a static one), is too late.\n",
       "    var cells = IPython.notebook.get_cells();\n",
       "    var ncells = cells.length;\n",
       "    for (var i=0; i<ncells; i++) {\n",
       "        var cell = cells[i];\n",
       "        if (cell.cell_type === 'code'){\n",
       "            for (var j=0; j<cell.output_area.outputs.length; j++) {\n",
       "                var data = cell.output_area.outputs[j];\n",
       "                if (data.data) {\n",
       "                    // IPython >= 3 moved mimebundle to data attribute of output\n",
       "                    data = data.data;\n",
       "                }\n",
       "                if (data['text/html'] == html_output) {\n",
       "                    return [cell, data, j];\n",
       "                }\n",
       "            }\n",
       "        }\n",
       "    }\n",
       "}\n",
       "\n",
       "// Register the function which deals with the matplotlib target/channel.\n",
       "// The kernel may be null if the page has been refreshed.\n",
       "if (IPython.notebook.kernel != null) {\n",
       "    IPython.notebook.kernel.comm_manager.register_target('matplotlib', mpl.mpl_figure_comm);\n",
       "}\n"
      ],
      "text/plain": [
       "<IPython.core.display.Javascript object>"
      ]
     },
     "metadata": {},
     "output_type": "display_data"
    },
    {
     "data": {
      "text/html": [
       "<img src=\"data:image/png;base64,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\" width=\"639.9999861283738\">"
      ],
      "text/plain": [
       "<IPython.core.display.HTML object>"
      ]
     },
     "metadata": {},
     "output_type": "display_data"
    },
    {
     "data": {
      "text/plain": [
       "(<Figure size 640x480 with 1 Axes>,\n",
       " <Dicom_RT_and_Images_to_Mask.Image_Array_And_Mask_From_Dicom_RT.IndexTracker at 0x24e851152b0>)"
      ]
     },
     "execution_count": 12,
     "metadata": {},
     "output_type": "execute_result"
    }
   ],
   "source": [
    "plot_scroll_Image(Images)"
   ]
  },
  {
   "cell_type": "code",
   "execution_count": null,
   "metadata": {},
   "outputs": [],
   "source": [
    "Images[mask==1] += 300"
   ]
  },
  {
   "cell_type": "markdown",
   "metadata": {},
   "source": [
    "# Recap\n",
    "\n",
    "## Checking ROI contour names and making associations\n",
    "\n",
    "## Loading in image and mask from desired contour name\n",
    "\n",
    "## Viewing images and mask"
   ]
  },
  {
   "cell_type": "code",
   "execution_count": null,
   "metadata": {},
   "outputs": [],
   "source": [
    "def write_data(data_path, out_path, associations):\n",
    "    for patient in os.listdir(data_path):\n",
    "        print(patient)\n",
    "        patient_data_path = os.path.join(data_path,patient)\n",
    "        out_file = os.path.join(out_path,patient+'.txt')\n",
    "        if not os.path.exists(out_file):\n",
    "            Dicom_Reader = DicomImagestoData(path=patient_data_path,get_images_mask=True,associations=associations)\n",
    "            image_handle = Dicom_Reader.dicom_handle\n",
    "            Dicom_Reader.get_mask(['Liver']) # Tell the class to load up the mask with contour name 'Liver'\n",
    "            mask_handle = Dicom_Reader.mask_handle\n",
    "            num_images = image_handle.GetSize()[-1]\n",
    "            for i in range(num_images):\n",
    "                out_write_image = os.path.join(out_path, patient + '_' + str(i) + '_image.nii.gz')\n",
    "                sitk.WriteImage(image_handle[:,:,i],out_write_image)\n",
    "                sitk.WriteImage(mask_handle[:,:,i],out_write_image.replace('_image.','_annotation.'))\n",
    "            fid = open(out_file,'w+')\n",
    "            fid.close()\n",
    "    return None"
   ]
  },
  {
   "cell_type": "code",
   "execution_count": 15,
   "metadata": {
    "scrolled": true
   },
   "outputs": [],
   "source": [
    "input_path = os.path.join('..','Data','Whole_Patients')\n",
    "output_path = os.path.join('..','Data','Niftii_Arrays')\n",
    "#write_data(input_path,output_path,associations=associations)"
   ]
  },
  {
   "cell_type": "code",
   "execution_count": 16,
   "metadata": {},
   "outputs": [
    {
     "ename": "PermissionError",
     "evalue": "[WinError 32] The process cannot access the file because it is being used by another process: '..\\\\Data\\\\Niftii_Arrays\\\\MED_LYMPH_024_36_annotation.nii.gz' -> '..\\\\Data\\\\Niftii_Arrays\\\\Train\\\\MED_LYMPH_024_36_annotation.nii.gz'",
     "output_type": "error",
     "traceback": [
      "\u001b[1;31m---------------------------------------------------------------------------\u001b[0m",
      "\u001b[1;31mPermissionError\u001b[0m                           Traceback (most recent call last)",
      "\u001b[1;32m<ipython-input-16-792ae83cdcf9>\u001b[0m in \u001b[0;36m<module>\u001b[1;34m\u001b[0m\n\u001b[1;32m----> 1\u001b[1;33m \u001b[0mSeparate_files\u001b[0m\u001b[1;33m(\u001b[0m\u001b[0moutput_path\u001b[0m\u001b[1;33m)\u001b[0m \u001b[1;31m# Separate into a Training/Validation/Test set\u001b[0m\u001b[1;33m\u001b[0m\u001b[1;33m\u001b[0m\u001b[0m\n\u001b[0m",
      "\u001b[1;32mK:\\Morfeus\\BMAnderson\\NCC_AAPM\\Code\\Distribute_Patients.py\u001b[0m in \u001b[0;36m__init__\u001b[1;34m(self, path)\u001b[0m\n\u001b[0;32m      9\u001b[0m     \u001b[1;32mdef\u001b[0m \u001b[0m__init__\u001b[0m\u001b[1;33m(\u001b[0m\u001b[0mself\u001b[0m\u001b[1;33m,\u001b[0m \u001b[0mpath\u001b[0m\u001b[1;33m)\u001b[0m\u001b[1;33m:\u001b[0m\u001b[1;33m\u001b[0m\u001b[1;33m\u001b[0m\u001b[0m\n\u001b[0;32m     10\u001b[0m         \u001b[0mself\u001b[0m\u001b[1;33m.\u001b[0m\u001b[0mpath\u001b[0m \u001b[1;33m=\u001b[0m \u001b[0mpath\u001b[0m\u001b[1;33m\u001b[0m\u001b[1;33m\u001b[0m\u001b[0m\n\u001b[1;32m---> 11\u001b[1;33m         \u001b[0mseparate_dictionary\u001b[0m\u001b[1;33m(\u001b[0m\u001b[0mseparate_by_desc\u001b[0m\u001b[1;33m(\u001b[0m\u001b[0mpath\u001b[0m\u001b[1;33m)\u001b[0m\u001b[1;33m,\u001b[0m\u001b[0mpath\u001b[0m\u001b[1;33m)\u001b[0m\u001b[1;33m\u001b[0m\u001b[1;33m\u001b[0m\u001b[0m\n\u001b[0m\u001b[0;32m     12\u001b[0m \u001b[1;32mdef\u001b[0m \u001b[0mseparate_by_desc\u001b[0m\u001b[1;33m(\u001b[0m\u001b[0mpath\u001b[0m\u001b[1;33m)\u001b[0m\u001b[1;33m:\u001b[0m\u001b[1;33m\u001b[0m\u001b[1;33m\u001b[0m\u001b[0m\n\u001b[0;32m     13\u001b[0m     \u001b[0mfiles\u001b[0m \u001b[1;33m=\u001b[0m \u001b[1;33m[\u001b[0m\u001b[0mi\u001b[0m \u001b[1;32mfor\u001b[0m \u001b[0mi\u001b[0m \u001b[1;32min\u001b[0m \u001b[0mos\u001b[0m\u001b[1;33m.\u001b[0m\u001b[0mlistdir\u001b[0m\u001b[1;33m(\u001b[0m\u001b[0mpath\u001b[0m\u001b[1;33m)\u001b[0m \u001b[1;32mif\u001b[0m \u001b[0mi\u001b[0m\u001b[1;33m.\u001b[0m\u001b[0mfind\u001b[0m\u001b[1;33m(\u001b[0m\u001b[1;34m'.nii.gz'\u001b[0m\u001b[1;33m)\u001b[0m \u001b[1;33m!=\u001b[0m \u001b[1;33m-\u001b[0m\u001b[1;36m1\u001b[0m\u001b[1;33m]\u001b[0m\u001b[1;33m\u001b[0m\u001b[1;33m\u001b[0m\u001b[0m\n",
      "\u001b[1;32mK:\\Morfeus\\BMAnderson\\NCC_AAPM\\Code\\Distribute_Patients.py\u001b[0m in \u001b[0;36mseparate_dictionary\u001b[1;34m(file_dictionary, path)\u001b[0m\n\u001b[0;32m     38\u001b[0m     \u001b[1;32mfor\u001b[0m \u001b[0mxxx\u001b[0m \u001b[1;32min\u001b[0m \u001b[0mrange\u001b[0m\u001b[1;33m(\u001b[0m\u001b[0mint\u001b[0m\u001b[1;33m(\u001b[0m\u001b[0msplit_train\u001b[0m \u001b[1;33m*\u001b[0m \u001b[1;36m2\u001b[0m\u001b[1;33m)\u001b[0m\u001b[1;33m,\u001b[0m \u001b[0mlen\u001b[0m\u001b[1;33m(\u001b[0m\u001b[0mperm\u001b[0m\u001b[1;33m)\u001b[0m\u001b[1;33m)\u001b[0m\u001b[1;33m:\u001b[0m\u001b[1;33m\u001b[0m\u001b[1;33m\u001b[0m\u001b[0m\n\u001b[0;32m     39\u001b[0m         \u001b[1;32mfor\u001b[0m \u001b[0mfile\u001b[0m \u001b[1;32min\u001b[0m \u001b[0mfile_dictionary\u001b[0m\u001b[1;33m[\u001b[0m\u001b[0mpatient_image_keys\u001b[0m\u001b[1;33m[\u001b[0m\u001b[0mxxx\u001b[0m\u001b[1;33m]\u001b[0m\u001b[1;33m]\u001b[0m\u001b[1;33m:\u001b[0m\u001b[1;33m\u001b[0m\u001b[1;33m\u001b[0m\u001b[0m\n\u001b[1;32m---> 40\u001b[1;33m             \u001b[0mos\u001b[0m\u001b[1;33m.\u001b[0m\u001b[0mrename\u001b[0m\u001b[1;33m(\u001b[0m\u001b[0mos\u001b[0m\u001b[1;33m.\u001b[0m\u001b[0mpath\u001b[0m\u001b[1;33m.\u001b[0m\u001b[0mjoin\u001b[0m\u001b[1;33m(\u001b[0m\u001b[0mpath\u001b[0m\u001b[1;33m,\u001b[0m\u001b[0mfile\u001b[0m\u001b[1;33m)\u001b[0m\u001b[1;33m,\u001b[0m \u001b[0mos\u001b[0m\u001b[1;33m.\u001b[0m\u001b[0mpath\u001b[0m\u001b[1;33m.\u001b[0m\u001b[0mjoin\u001b[0m\u001b[1;33m(\u001b[0m\u001b[0mpath\u001b[0m\u001b[1;33m,\u001b[0m\u001b[1;34m'Train'\u001b[0m\u001b[1;33m,\u001b[0m \u001b[0mfile\u001b[0m\u001b[1;33m)\u001b[0m\u001b[1;33m)\u001b[0m\u001b[1;33m\u001b[0m\u001b[1;33m\u001b[0m\u001b[0m\n\u001b[0m\u001b[0;32m     41\u001b[0m \u001b[1;33m\u001b[0m\u001b[0m\n\u001b[0;32m     42\u001b[0m \u001b[1;32mdef\u001b[0m \u001b[0mmain\u001b[0m\u001b[1;33m(\u001b[0m\u001b[1;33m)\u001b[0m\u001b[1;33m:\u001b[0m\u001b[1;33m\u001b[0m\u001b[1;33m\u001b[0m\u001b[0m\n",
      "\u001b[1;31mPermissionError\u001b[0m: [WinError 32] The process cannot access the file because it is being used by another process: '..\\\\Data\\\\Niftii_Arrays\\\\MED_LYMPH_024_36_annotation.nii.gz' -> '..\\\\Data\\\\Niftii_Arrays\\\\Train\\\\MED_LYMPH_024_36_annotation.nii.gz'"
     ]
    }
   ],
   "source": [
    "Separate_files(output_path) # Separate into a Training/Validation/Test set"
   ]
  },
  {
   "cell_type": "code",
   "execution_count": null,
   "metadata": {},
   "outputs": [],
   "source": []
  },
  {
   "cell_type": "markdown",
   "metadata": {},
   "source": [
    "# Liver Model"
   ]
  },
  {
   "cell_type": "markdown",
   "metadata": {},
   "source": [
    "## Import some things"
   ]
  },
  {
   "cell_type": "code",
   "execution_count": 1,
   "metadata": {
    "scrolled": true
   },
   "outputs": [
    {
     "name": "stderr",
     "output_type": "stream",
     "text": [
      "c:\\users\\bmanderson\\appdata\\local\\programs\\python\\python36\\lib\\importlib\\_bootstrap.py:219: RuntimeWarning: numpy.ufunc size changed, may indicate binary incompatibility. Expected 192 from C header, got 216 from PyObject\n",
      "  return f(*args, **kwds)\n",
      "c:\\users\\bmanderson\\appdata\\local\\programs\\python\\python36\\lib\\importlib\\_bootstrap.py:219: RuntimeWarning: numpy.ufunc size changed, may indicate binary incompatibility. Expected 216, got 192\n",
      "  return f(*args, **kwds)\n"
     ]
    }
   ],
   "source": [
    "from Liver_Generator import Data_Generator, os, plot_scroll_Image, dice_coef_3D\n",
    "from Utils import ModelCheckpoint, TensorBoardImage, model_path_maker"
   ]
  },
  {
   "cell_type": "code",
   "execution_count": 2,
   "metadata": {},
   "outputs": [],
   "source": [
    "%matplotlib inline"
   ]
  },
  {
   "cell_type": "code",
   "execution_count": 4,
   "metadata": {},
   "outputs": [],
   "source": [
    "%load_ext tensorboard"
   ]
  },
  {
   "cell_type": "code",
   "execution_count": 5,
   "metadata": {},
   "outputs": [],
   "source": [
    "data_path = os.path.join('..','Data','Niftii_Arrays')\n",
    "train_path = os.path.join(data_path,'Train')\n",
    "validation_path = os.path.join(data_path,'Validation')\n",
    "test_path = os.path.join(data_path,'Test')\n",
    "model_path = os.path.join('..','Models')\n",
    "if not os.path.exists(model_path):\n",
    "    os.makedirs(model_path)"
   ]
  },
  {
   "cell_type": "code",
   "execution_count": 6,
   "metadata": {
    "scrolled": true
   },
   "outputs": [
    {
     "name": "stdout",
     "output_type": "stream",
     "text": [
      "7.14% Done loading\n"
     ]
    },
    {
     "ename": "KeyboardInterrupt",
     "evalue": "",
     "output_type": "error",
     "traceback": [
      "\u001b[1;31m---------------------------------------------------------------------------\u001b[0m",
      "\u001b[1;31mKeyboardInterrupt\u001b[0m                         Traceback (most recent call last)",
      "\u001b[1;32m<ipython-input-6-c3038da3c128>\u001b[0m in \u001b[0;36m<module>\u001b[1;34m\u001b[0m\n\u001b[0;32m      1\u001b[0m \u001b[0margs\u001b[0m \u001b[1;33m=\u001b[0m \u001b[1;33m{\u001b[0m\u001b[1;34m'batch_size'\u001b[0m\u001b[1;33m:\u001b[0m\u001b[1;36m5\u001b[0m\u001b[1;33m,\u001b[0m\u001b[1;34m'on_vgg'\u001b[0m\u001b[1;33m:\u001b[0m\u001b[1;32mTrue\u001b[0m\u001b[1;33m}\u001b[0m\u001b[1;31m#'mean_val':81,'std_val':31,\u001b[0m\u001b[1;33m\u001b[0m\u001b[1;33m\u001b[0m\u001b[0m\n\u001b[1;32m----> 2\u001b[1;33m \u001b[0mtrain_generator\u001b[0m \u001b[1;33m=\u001b[0m \u001b[0mData_Generator\u001b[0m\u001b[1;33m(\u001b[0m\u001b[0mtrain_path\u001b[0m\u001b[1;33m,\u001b[0m \u001b[0mshuffle\u001b[0m\u001b[1;33m=\u001b[0m\u001b[1;32mTrue\u001b[0m\u001b[1;33m,\u001b[0m \u001b[1;33m**\u001b[0m\u001b[0margs\u001b[0m\u001b[1;33m)\u001b[0m \u001b[1;31m# mean_val=81,std_val=30\u001b[0m\u001b[1;33m\u001b[0m\u001b[1;33m\u001b[0m\u001b[0m\n\u001b[0m",
      "\u001b[1;32mK:\\Morfeus\\BMAnderson\\NCC_AAPM\\Code\\Liver_Generator.py\u001b[0m in \u001b[0;36m__init__\u001b[1;34m(self, data_paths, batch_size, shuffle, mean_val, std_val, channels, on_vgg, classes, by_patient)\u001b[0m\n\u001b[0;32m     38\u001b[0m         \u001b[0mself\u001b[0m\u001b[1;33m.\u001b[0m\u001b[0mshuffle\u001b[0m \u001b[1;33m=\u001b[0m \u001b[0mshuffle\u001b[0m\u001b[1;33m\u001b[0m\u001b[1;33m\u001b[0m\u001b[0m\n\u001b[0;32m     39\u001b[0m         \u001b[1;32mfor\u001b[0m \u001b[0mdata_path\u001b[0m \u001b[1;32min\u001b[0m \u001b[0mdata_paths\u001b[0m\u001b[1;33m:\u001b[0m\u001b[1;33m\u001b[0m\u001b[1;33m\u001b[0m\u001b[0m\n\u001b[1;32m---> 40\u001b[1;33m             \u001b[0mself\u001b[0m\u001b[1;33m.\u001b[0m\u001b[0mload_all_data\u001b[0m\u001b[1;33m(\u001b[0m\u001b[0mdata_path\u001b[0m\u001b[1;33m)\u001b[0m\u001b[1;33m\u001b[0m\u001b[1;33m\u001b[0m\u001b[0m\n\u001b[0m\u001b[0;32m     41\u001b[0m         \u001b[1;32mif\u001b[0m \u001b[0mby_patient\u001b[0m\u001b[1;33m:\u001b[0m\u001b[1;33m\u001b[0m\u001b[1;33m\u001b[0m\u001b[0m\n\u001b[0;32m     42\u001b[0m             \u001b[0mself\u001b[0m\u001b[1;33m.\u001b[0m\u001b[0mfile_list\u001b[0m \u001b[1;33m=\u001b[0m \u001b[0mnp\u001b[0m\u001b[1;33m.\u001b[0m\u001b[0masarray\u001b[0m\u001b[1;33m(\u001b[0m\u001b[0mlist\u001b[0m\u001b[1;33m(\u001b[0m\u001b[0mself\u001b[0m\u001b[1;33m.\u001b[0m\u001b[0mpatient_dict\u001b[0m\u001b[1;33m.\u001b[0m\u001b[0mkeys\u001b[0m\u001b[1;33m(\u001b[0m\u001b[1;33m)\u001b[0m\u001b[1;33m)\u001b[0m\u001b[1;33m)\u001b[0m\u001b[1;33m\u001b[0m\u001b[1;33m\u001b[0m\u001b[0m\n",
      "\u001b[1;32mK:\\Morfeus\\BMAnderson\\NCC_AAPM\\Code\\Liver_Generator.py\u001b[0m in \u001b[0;36mload_all_data\u001b[1;34m(self, data_path)\u001b[0m\n\u001b[0;32m     56\u001b[0m             \u001b[0mannotation_handle\u001b[0m \u001b[1;33m=\u001b[0m \u001b[0msitk\u001b[0m\u001b[1;33m.\u001b[0m\u001b[0mReadImage\u001b[0m\u001b[1;33m(\u001b[0m\u001b[0mload_path\u001b[0m\u001b[1;33m.\u001b[0m\u001b[0mreplace\u001b[0m\u001b[1;33m(\u001b[0m\u001b[1;34m'_image.'\u001b[0m\u001b[1;33m,\u001b[0m\u001b[1;34m'_annotation.'\u001b[0m\u001b[1;33m)\u001b[0m\u001b[1;33m)\u001b[0m\u001b[1;33m\u001b[0m\u001b[1;33m\u001b[0m\u001b[0m\n\u001b[0;32m     57\u001b[0m             \u001b[0mimages\u001b[0m \u001b[1;33m=\u001b[0m \u001b[0msitk\u001b[0m\u001b[1;33m.\u001b[0m\u001b[0mGetArrayFromImage\u001b[0m\u001b[1;33m(\u001b[0m\u001b[0mimage_handle\u001b[0m\u001b[1;33m)\u001b[0m\u001b[1;33m\u001b[0m\u001b[1;33m\u001b[0m\u001b[0m\n\u001b[1;32m---> 58\u001b[1;33m             \u001b[0mimages\u001b[0m \u001b[1;33m=\u001b[0m \u001b[0mnp\u001b[0m\u001b[1;33m.\u001b[0m\u001b[0mstack\u001b[0m\u001b[1;33m(\u001b[0m\u001b[1;33m[\u001b[0m\u001b[0mimages\u001b[0m \u001b[1;32mfor\u001b[0m \u001b[0m_\u001b[0m \u001b[1;32min\u001b[0m \u001b[0mrange\u001b[0m\u001b[1;33m(\u001b[0m\u001b[0mself\u001b[0m\u001b[1;33m.\u001b[0m\u001b[0mchannels\u001b[0m\u001b[1;33m)\u001b[0m\u001b[1;33m]\u001b[0m\u001b[1;33m,\u001b[0m \u001b[0maxis\u001b[0m\u001b[1;33m=\u001b[0m\u001b[1;33m-\u001b[0m\u001b[1;36m1\u001b[0m\u001b[1;33m)\u001b[0m\u001b[1;33m\u001b[0m\u001b[1;33m\u001b[0m\u001b[0m\n\u001b[0m\u001b[0;32m     59\u001b[0m             \u001b[0mannotations\u001b[0m \u001b[1;33m=\u001b[0m \u001b[0msitk\u001b[0m\u001b[1;33m.\u001b[0m\u001b[0mGetArrayFromImage\u001b[0m\u001b[1;33m(\u001b[0m\u001b[0mannotation_handle\u001b[0m\u001b[1;33m)\u001b[0m\u001b[1;33m\u001b[0m\u001b[1;33m\u001b[0m\u001b[0m\n\u001b[0;32m     60\u001b[0m             \u001b[0mannotations\u001b[0m \u001b[1;33m=\u001b[0m \u001b[0mnp_utils\u001b[0m\u001b[1;33m.\u001b[0m\u001b[0mto_categorical\u001b[0m\u001b[1;33m(\u001b[0m\u001b[0mannotations\u001b[0m\u001b[1;33m,\u001b[0m\u001b[0mself\u001b[0m\u001b[1;33m.\u001b[0m\u001b[0mclasses\u001b[0m\u001b[1;33m)\u001b[0m\u001b[1;33m\u001b[0m\u001b[1;33m\u001b[0m\u001b[0m\n",
      "\u001b[1;32mc:\\users\\bmanderson\\appdata\\local\\programs\\python\\python36\\lib\\site-packages\\numpy\\core\\shape_base.py\u001b[0m in \u001b[0;36mstack\u001b[1;34m(arrays, axis, out)\u001b[0m\n\u001b[0;32m    420\u001b[0m     \u001b[0msl\u001b[0m \u001b[1;33m=\u001b[0m \u001b[1;33m(\u001b[0m\u001b[0mslice\u001b[0m\u001b[1;33m(\u001b[0m\u001b[1;32mNone\u001b[0m\u001b[1;33m)\u001b[0m\u001b[1;33m,\u001b[0m\u001b[1;33m)\u001b[0m \u001b[1;33m*\u001b[0m \u001b[0maxis\u001b[0m \u001b[1;33m+\u001b[0m \u001b[1;33m(\u001b[0m\u001b[0m_nx\u001b[0m\u001b[1;33m.\u001b[0m\u001b[0mnewaxis\u001b[0m\u001b[1;33m,\u001b[0m\u001b[1;33m)\u001b[0m\u001b[1;33m\u001b[0m\u001b[1;33m\u001b[0m\u001b[0m\n\u001b[0;32m    421\u001b[0m     \u001b[0mexpanded_arrays\u001b[0m \u001b[1;33m=\u001b[0m \u001b[1;33m[\u001b[0m\u001b[0marr\u001b[0m\u001b[1;33m[\u001b[0m\u001b[0msl\u001b[0m\u001b[1;33m]\u001b[0m \u001b[1;32mfor\u001b[0m \u001b[0marr\u001b[0m \u001b[1;32min\u001b[0m \u001b[0marrays\u001b[0m\u001b[1;33m]\u001b[0m\u001b[1;33m\u001b[0m\u001b[1;33m\u001b[0m\u001b[0m\n\u001b[1;32m--> 422\u001b[1;33m     \u001b[1;32mreturn\u001b[0m \u001b[0m_nx\u001b[0m\u001b[1;33m.\u001b[0m\u001b[0mconcatenate\u001b[0m\u001b[1;33m(\u001b[0m\u001b[0mexpanded_arrays\u001b[0m\u001b[1;33m,\u001b[0m \u001b[0maxis\u001b[0m\u001b[1;33m=\u001b[0m\u001b[0maxis\u001b[0m\u001b[1;33m,\u001b[0m \u001b[0mout\u001b[0m\u001b[1;33m=\u001b[0m\u001b[0mout\u001b[0m\u001b[1;33m)\u001b[0m\u001b[1;33m\u001b[0m\u001b[1;33m\u001b[0m\u001b[0m\n\u001b[0m\u001b[0;32m    423\u001b[0m \u001b[1;33m\u001b[0m\u001b[0m\n\u001b[0;32m    424\u001b[0m \u001b[1;33m\u001b[0m\u001b[0m\n",
      "\u001b[1;31mKeyboardInterrupt\u001b[0m: "
     ]
    }
   ],
   "source": [
    "args = {'batch_size':5,'on_vgg':True}#'mean_val':81,'std_val':31,\n",
    "train_generator = Data_Generator(train_path, shuffle=True, **args) # mean_val=81,std_val=30"
   ]
  },
  {
   "cell_type": "markdown",
   "metadata": {},
   "source": [
    "## Normalize images about the mask to be mean 0, std 1"
   ]
  },
  {
   "cell_type": "code",
   "execution_count": null,
   "metadata": {
    "scrolled": true
   },
   "outputs": [],
   "source": [
    "train_generator.get_mean_std_val() # This will calculate the mean and std for you and set it in the model\n",
    "print(train_generator.mean_val)"
   ]
  },
  {
   "cell_type": "code",
   "execution_count": null,
   "metadata": {},
   "outputs": [],
   "source": [
    "args_val = {'on_vgg':True,'mean_val':train_generator.mean_val,'std_val':train_generator.std_val,'by_patient':True,\n",
    "       'shuffle':True}#'mean_val':81,'\n",
    "validation_generator = Data_Generator(validation_path, **args_val)\n",
    "test_generator = Data_Generator(test_path, **args_val)"
   ]
  },
  {
   "cell_type": "code",
   "execution_count": null,
   "metadata": {},
   "outputs": [],
   "source": [
    "x,y = train_generator.__getitem__(0)"
   ]
  },
  {
   "cell_type": "code",
   "execution_count": null,
   "metadata": {},
   "outputs": [],
   "source": [
    "plot_scroll_Image(x[...,-1])"
   ]
  },
  {
   "cell_type": "code",
   "execution_count": null,
   "metadata": {},
   "outputs": [],
   "source": [
    "x,y = validation_generator.__getitem__(0)"
   ]
  },
  {
   "cell_type": "markdown",
   "metadata": {},
   "source": [
    "### Alright, lets make our model!"
   ]
  },
  {
   "cell_type": "code",
   "execution_count": null,
   "metadata": {},
   "outputs": [],
   "source": [
    "from Easy_VGG16_UNet.Keras_Fine_Tune_VGG_16_Liver import VGG_16\n",
    "from Visualizing_Model.Visualing_Model import visualization_model_class\n",
    "from keras.optimizers import Adam"
   ]
  },
  {
   "cell_type": "code",
   "execution_count": null,
   "metadata": {
    "scrolled": true
   },
   "outputs": [],
   "source": [
    "network = {'Layer_0': {'Encoding': [64, 64], 'Decoding': [32]},\n",
    "           'Layer_1': {'Encoding': [128, 128], 'Decoding': [64]},\n",
    "           'Layer_2': {'Encoding': [256, 256, 256], 'Decoding': [256]},\n",
    "           'Layer_3': {'Encoding': [512, 512, 512], 'Decoding': [256]},\n",
    "           'Layer_4': {'Encoding': [512, 512, 512]}}\n",
    "VGG_model = VGG_16(network=network, activation='relu',filter_size=(3,3))\n",
    "VGG_model.make_model()\n",
    "VGG_model.load_weights()\n",
    "new_model = VGG_model.created_model\n",
    "model_path = os.path.join('..','Models')"
   ]
  },
  {
   "cell_type": "markdown",
   "metadata": {},
   "source": [
    "## These are some tools for visualizing the model"
   ]
  },
  {
   "cell_type": "code",
   "execution_count": null,
   "metadata": {
    "scrolled": true
   },
   "outputs": [],
   "source": [
    "Visualizing_Class = visualization_model_class(model=new_model, save_images=True, verbose=True)"
   ]
  },
  {
   "cell_type": "code",
   "execution_count": null,
   "metadata": {},
   "outputs": [],
   "source": [
    "Visualizing_Class.define_desired_layers(['block1_conv1','block1_conv1_activation','Output'])"
   ]
  },
  {
   "cell_type": "code",
   "execution_count": null,
   "metadata": {},
   "outputs": [],
   "source": [
    "Visualizing_Class.predict_on_tensor(x[0,...][None,...])"
   ]
  },
  {
   "cell_type": "code",
   "execution_count": null,
   "metadata": {
    "scrolled": true
   },
   "outputs": [],
   "source": [
    "Visualizing_Class.plot_activations()"
   ]
  },
  {
   "cell_type": "code",
   "execution_count": null,
   "metadata": {
    "scrolled": true
   },
   "outputs": [],
   "source": [
    "new_model.compile(Adam(lr=5e-5),loss='categorical_crossentropy', metrics=['accuracy',dice_coef_3D])"
   ]
  },
  {
   "cell_type": "markdown",
   "metadata": {},
   "source": [
    "### Freezing pre-trained layers"
   ]
  },
  {
   "cell_type": "code",
   "execution_count": null,
   "metadata": {},
   "outputs": [],
   "source": [
    "def freeze_until_name(model,name):\n",
    "    set_trainable = False\n",
    "    for layer in model.layers:\n",
    "        if layer.name == name:\n",
    "            set_trainable = True\n",
    "        layer.trainable = set_trainable\n",
    "    return model\n",
    "new_model = freeze_until_name(new_model,'Upsampling0_UNet')"
   ]
  },
  {
   "cell_type": "markdown",
   "metadata": {},
   "source": [
    "### Now that our model is made, lets name it and make a checkpoint as it trains\n",
    "\n",
    "A checkpoint is a way of assessing the model and determining if we should save it"
   ]
  },
  {
   "cell_type": "code",
   "execution_count": null,
   "metadata": {},
   "outputs": [],
   "source": [
    "model_name = 'VGG_16_Model'\n",
    "other_aspects = [model_name,'Upsampling0_UNet_Unfrozen'] # Just a list of defining things\n",
    "model_path_out = model_path_maker(model_path,other_aspects)"
   ]
  },
  {
   "cell_type": "code",
   "execution_count": null,
   "metadata": {},
   "outputs": [],
   "source": [
    "checkpoint = Model_Checkpoint(model_path_out, monitor='val_dice_coef_3D', verbose=1, save_best_only=True,\n",
    "                              save_weights_only=False, period=5, mode='max')\n",
    "# TensorboardImage lets us view the predictions of our model\n",
    "tensorboard = TensorBoardImage(log_dir=model_path_out, batch_size=1, num_images=3,update_freq='epoch', \n",
    "                               data_generator=validation_generator)\n",
    "callbacks = [checkpoint, tensorboard]"
   ]
  },
  {
   "cell_type": "code",
   "execution_count": null,
   "metadata": {},
   "outputs": [],
   "source": [
    "%tensorboard --logdir {model_path}"
   ]
  },
  {
   "cell_type": "code",
   "execution_count": null,
   "metadata": {},
   "outputs": [],
   "source": [
    "new_model.fit_generator(train_generator,epochs=5, workers=20, max_queue_size=50, validation_data=validation_generator,\n",
    "                       callbacks=callbacks)"
   ]
  },
  {
   "cell_type": "code",
   "execution_count": null,
   "metadata": {},
   "outputs": [],
   "source": [
    "x,y = validation_generator.__getitem__(0)"
   ]
  },
  {
   "cell_type": "code",
   "execution_count": null,
   "metadata": {},
   "outputs": [],
   "source": [
    "pred = new_model.predict(x)"
   ]
  },
  {
   "cell_type": "code",
   "execution_count": null,
   "metadata": {},
   "outputs": [],
   "source": [
    "pred[pred<0.5] = 0\n",
    "pred[pred>0] = 1"
   ]
  },
  {
   "cell_type": "code",
   "execution_count": null,
   "metadata": {},
   "outputs": [],
   "source": [
    "plot_scroll_Image(pred[...,1])"
   ]
  },
  {
   "cell_type": "code",
   "execution_count": null,
   "metadata": {},
   "outputs": [],
   "source": []
  }
 ],
 "metadata": {
  "kernelspec": {
   "display_name": "Python 3",
   "language": "python",
   "name": "python3"
  },
  "language_info": {
   "codemirror_mode": {
    "name": "ipython",
    "version": 3
   },
   "file_extension": ".py",
   "mimetype": "text/x-python",
   "name": "python",
   "nbconvert_exporter": "python",
   "pygments_lexer": "ipython3",
   "version": "3.6.8"
  },
  "pycharm": {
   "stem_cell": {
    "cell_type": "raw",
    "metadata": {
     "collapsed": false
    },
    "source": []
   }
  }
 },
 "nbformat": 4,
 "nbformat_minor": 2
}
